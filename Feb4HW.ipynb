{
  "nbformat": 4,
  "nbformat_minor": 0,
  "metadata": {
    "colab": {
      "provenance": [],
      "include_colab_link": true
    },
    "kernelspec": {
      "name": "python3",
      "display_name": "Python 3"
    },
    "language_info": {
      "name": "python"
    }
  },
  "cells": [
    {
      "cell_type": "markdown",
      "metadata": {
        "id": "view-in-github",
        "colab_type": "text"
      },
      "source": [
        "<a href=\"https://colab.research.google.com/github/jordannemirovsky/DS1002/blob/main/Feb4HW.ipynb\" target=\"_parent\"><img src=\"https://colab.research.google.com/assets/colab-badge.svg\" alt=\"Open In Colab\"/></a>"
      ]
    },
    {
      "cell_type": "markdown",
      "source": [
        "## DS 1002 homework due Sunday Feb 4 at 10 pm\n"
      ],
      "metadata": {
        "id": "zAw2bmn-TjFJ"
      }
    },
    {
      "cell_type": "markdown",
      "source": [
        "\n",
        "The notebook from Wednesday's class is in my GitHib repository, including the little script we wrote at the end to find mangos in a list of fruit.  The file is called `MorePythonBasics.ipynb`.\n",
        "\n",
        "(By the way I wondered if the correct spelling was \"mangos\" or \"mangoes\" and I found [this](https://www.mango.org/blog-mangos-or-mangoes/)!  Who knew?  There's a National Mango Board!  And they're prepared to adjudicate this and other difficult mango-related questions.)\n",
        "\n",
        "\n"
      ],
      "metadata": {
        "id": "Cmf4xleCSWCu"
      }
    },
    {
      "cell_type": "markdown",
      "source": [
        "### Problem 1:  finding fruit\n",
        "\n",
        "Adapt the function we wrote in class so that it takes two arguments,\n",
        "\n",
        "`fruit` and `hungryfor` ,\n",
        "\n",
        "and then searches through the list `fruit` for the item `hungryfor`.  The line that calls the function should look like\n",
        "\n",
        "`find_fruit(food, hungryfor)`\n",
        "\n",
        "Make it print out the results in the same way, so for example if `food` is what we entered in class and `hungryfor = \"tomatoes\"` then the output will be\n",
        "\n",
        "```python\n",
        "No tomatoes here.\n",
        "No tomatoes here.\n",
        "No tomatoes here.\n",
        "No tomatoes here.\n",
        "No tomatoes here.\n",
        "```\n",
        "Test your code by changing the values of `food` and `hungryfor` and make sure the output is what you expect.  Show a few outputs, each in its own code chunk.\n",
        "\n"
      ],
      "metadata": {
        "id": "rJLyGryAThhp"
      }
    },
    {
      "cell_type": "code",
      "source": [
        "# put code here\n",
        "hungryfor = [\"strawberries\"]\n",
        "fruit = [\"apples\", \"oranges\", \"mangos\", \"bananas\", hungryfor, \"blueberries\"]\n",
        "\n",
        "def find_fruit(fruit, hungryfor):\n",
        "  for fkjh in fruit:\n",
        "    if fkjh == hungryfor :\n",
        "      print(\"Hooray!  I found strawberries.\")\n",
        "    else:\n",
        "      print(\"No strawberries here.\")"
      ],
      "metadata": {
        "id": "YXwLLFCt6H2f"
      },
      "execution_count": 33,
      "outputs": []
    },
    {
      "cell_type": "code",
      "source": [
        "# put your first function call here, and make more code chunks for additional function calls\n",
        "find_fruit(fruit, hungryfor)"
      ],
      "metadata": {
        "id": "bYdqsfrh6KnE",
        "colab": {
          "base_uri": "https://localhost:8080/"
        },
        "outputId": "ecef2ba5-dee5-41e7-bc80-59f3318c9ca9"
      },
      "execution_count": 35,
      "outputs": [
        {
          "output_type": "stream",
          "name": "stdout",
          "text": [
            "No strawberries here.\n",
            "No strawberries here.\n",
            "No strawberries here.\n",
            "No strawberries here.\n",
            "Hooray!  I found strawberries.\n",
            "No strawberries here.\n"
          ]
        }
      ]
    },
    {
      "cell_type": "code",
      "source": [
        "hungryfor = [\"raspberries\"]\n",
        "fruit = [\"coconuts\", hungryfor, \"kiwis\", \"grapes\", \"plums\", \"pears\"]\n",
        "\n",
        "def find_fruit(fruit, hungryfor):\n",
        "  for fkjh in fruit:\n",
        "    if fkjh == hungryfor :\n",
        "      print(\"Hooray!  I found raspberries.\")\n",
        "    else:\n",
        "      print(\"No raspberries here.\")\n",
        "\n",
        "find_fruit(fruit, hungryfor)"
      ],
      "metadata": {
        "colab": {
          "base_uri": "https://localhost:8080/"
        },
        "id": "a37NcgjTJmAn",
        "outputId": "3d4e0bb2-e3c7-4cdb-be13-c52b15f9c2ed"
      },
      "execution_count": 36,
      "outputs": [
        {
          "output_type": "stream",
          "name": "stdout",
          "text": [
            "No raspberries here.\n",
            "Hooray!  I found raspberries.\n",
            "No raspberries here.\n",
            "No raspberries here.\n",
            "No raspberries here.\n",
            "No raspberries here.\n"
          ]
        }
      ]
    },
    {
      "cell_type": "code",
      "source": [
        "hungryfor = [\"watermelon\"]\n",
        "fruit = [\"blackberries\", \"pomegranate\", hungryfor, \"cherries\", \"peaches\", \"pineapples\"]\n",
        "\n",
        "def find_fruit(fruit, hungryfor):\n",
        "  for fkjh in fruit:\n",
        "    if fkjh == hungryfor :\n",
        "      print(\"Hooray!  I found watermelon.\")\n",
        "    else:\n",
        "      print(\"No watermelon here.\")\n",
        "\n",
        "find_fruit(fruit, hungryfor)"
      ],
      "metadata": {
        "colab": {
          "base_uri": "https://localhost:8080/"
        },
        "id": "Y0zV6arEJo0E",
        "outputId": "4b67e34a-3e86-493d-a2ba-d5a48fb563a2"
      },
      "execution_count": 39,
      "outputs": [
        {
          "output_type": "stream",
          "name": "stdout",
          "text": [
            "No watermelon here.\n",
            "No watermelon here.\n",
            "Hooray!  I found watermelon.\n",
            "No watermelon here.\n",
            "No watermelon here.\n",
            "No watermelon here.\n"
          ]
        }
      ]
    },
    {
      "cell_type": "markdown",
      "source": [
        "#### Notes\n",
        "1. Once you have run a code chunk in the notebook, it will remember that it has been run.  You don't have to call the function in the same code chunk where the function is defined.  In other words, to call the function with new inputs you can simply make a new code chunk, change the inputs, and call the function.  *You don't have to retype the definition of the function each time.*\n",
        "\n",
        "2. Make sure you clean things up when you're done, so you don't include old code that doesn't work or old incorrect outputs.\n"
      ],
      "metadata": {
        "id": "AMp-a1ym6W7w"
      }
    },
    {
      "cell_type": "markdown",
      "source": [
        "### Problem 2:  the `input()` function\n",
        "\n",
        "(a) Programming gets way more fun when you start to interact with your own programs!  Here is a function that lets you start doing that.  Run the following code and see what happens:\n"
      ],
      "metadata": {
        "id": "R-s9cZ6GYWNX"
      }
    },
    {
      "cell_type": "code",
      "source": [
        "input()\n",
        "print(\"Hello there!\")"
      ],
      "metadata": {
        "id": "IEK8O2qNYkXn"
      },
      "execution_count": null,
      "outputs": []
    },
    {
      "cell_type": "markdown",
      "source": [
        "(b) As you just saw, the code waits for you to enter something before it continues.  If you want to actually use the input in the code, you should assign its value to a variable:"
      ],
      "metadata": {
        "id": "sktZu8wWzFF6"
      }
    },
    {
      "cell_type": "code",
      "source": [
        "message = input()\n",
        "print(message)"
      ],
      "metadata": {
        "id": "fMmBkzbyz9Ty"
      },
      "execution_count": null,
      "outputs": []
    },
    {
      "cell_type": "markdown",
      "source": [
        "(c) Now you can start interacting.  Write some code that asks the user what they are hungry for (using a print statement), and then takes the user input, and then runs the `find_fruit` function from the previous code block using the user input as the `hungryfor` variable.  Test your code, and then include a few different outputs that demonstrate that the code works."
      ],
      "metadata": {
        "id": "ny41z-dQYmjQ"
      }
    },
    {
      "cell_type": "code",
      "source": [
        "# put code here\n",
        "print(\"What are you hungry for?\")\n",
        "user_input = input()\n",
        "hungryfor = [user_input]\n",
        "fruit = [\"blackberries\", \"pomegranate\", hungryfor, \"cherries\", \"peaches\", \"pineapples\"]\n",
        "\n",
        "def find_fruit(fruit, hungryfor):\n",
        "  for fkjh in fruit:\n",
        "    if fkjh == hungryfor :\n",
        "      print(\"Hooray!  I found\", hungryfor, \".\")\n",
        "    else:\n",
        "      print(\"No\", hungryfor, \"here!\")"
      ],
      "metadata": {
        "id": "SKAVoAZ00xOx",
        "colab": {
          "base_uri": "https://localhost:8080/"
        },
        "outputId": "ecfedc45-3bf4-4662-dfdb-c7c0fd932cd9"
      },
      "execution_count": 83,
      "outputs": [
        {
          "name": "stdout",
          "output_type": "stream",
          "text": [
            "What are you hungry for?\n",
            "pizza\n"
          ]
        }
      ]
    },
    {
      "cell_type": "code",
      "source": [
        "# run it here, and add more code chunks for more runs\n",
        "find_fruit(fruit, hungryfor)"
      ],
      "metadata": {
        "id": "sQQVP1oa5dR7",
        "colab": {
          "base_uri": "https://localhost:8080/"
        },
        "outputId": "c7b291b7-ba21-450a-f823-b03225ad7182"
      },
      "execution_count": 84,
      "outputs": [
        {
          "output_type": "stream",
          "name": "stdout",
          "text": [
            "No ['pizza'] here!\n",
            "No ['pizza'] here!\n",
            "Hooray!  I found ['pizza'] .\n",
            "No ['pizza'] here!\n",
            "No ['pizza'] here!\n",
            "No ['pizza'] here!\n"
          ]
        }
      ]
    },
    {
      "cell_type": "code",
      "source": [
        "print(\"What are you hungry for?\")\n",
        "user_input = input()\n",
        "hungryfor = [user_input]\n",
        "fruit = [\"blackberries\", \"pomegranate\", hungryfor, \"cherries\", \"peaches\", \"pineapples\"]\n",
        "\n",
        "def find_fruit(fruit, hungryfor):\n",
        "  for fkjh in fruit:\n",
        "    if fkjh == hungryfor :\n",
        "      print(\"Hooray!  I found\", hungryfor, \".\")\n",
        "    else:\n",
        "      print(\"No\", hungryfor, \"here!\")"
      ],
      "metadata": {
        "colab": {
          "base_uri": "https://localhost:8080/"
        },
        "id": "Btpc4B_bSt7j",
        "outputId": "2711090c-4000-4b55-8066-d1809499724c"
      },
      "execution_count": 85,
      "outputs": [
        {
          "name": "stdout",
          "output_type": "stream",
          "text": [
            "What are you hungry for?\n",
            "chicken tenders\n"
          ]
        }
      ]
    },
    {
      "cell_type": "code",
      "source": [
        "find_fruit(fruit, hungryfor)"
      ],
      "metadata": {
        "colab": {
          "base_uri": "https://localhost:8080/"
        },
        "id": "6YWJ4nvoTPYn",
        "outputId": "c369090b-695c-4865-d65f-9061c88dc793"
      },
      "execution_count": 86,
      "outputs": [
        {
          "output_type": "stream",
          "name": "stdout",
          "text": [
            "No ['chicken tenders'] here!\n",
            "No ['chicken tenders'] here!\n",
            "Hooray!  I found ['chicken tenders'] .\n",
            "No ['chicken tenders'] here!\n",
            "No ['chicken tenders'] here!\n",
            "No ['chicken tenders'] here!\n"
          ]
        }
      ]
    },
    {
      "cell_type": "code",
      "source": [
        "print(\"What are you hungry for?\")\n",
        "user_input = input()\n",
        "hungryfor = [user_input]\n",
        "fruit = [\"blackberries\", \"pomegranate\", hungryfor, \"cherries\", \"peaches\", \"pineapples\"]\n",
        "\n",
        "def find_fruit(fruit, hungryfor):\n",
        "  for fkjh in fruit:\n",
        "    if fkjh == hungryfor :\n",
        "      print(\"Hooray!  I found\", hungryfor, \".\")\n",
        "    else:\n",
        "      print(\"No\", hungryfor, \"here!\")"
      ],
      "metadata": {
        "colab": {
          "base_uri": "https://localhost:8080/"
        },
        "id": "wudBIzEVTRoe",
        "outputId": "a2d286f9-c1a5-4883-efea-f4894ce4ef8c"
      },
      "execution_count": 87,
      "outputs": [
        {
          "name": "stdout",
          "output_type": "stream",
          "text": [
            "What are you hungry for?\n",
            "pasta\n"
          ]
        }
      ]
    },
    {
      "cell_type": "code",
      "source": [
        "find_fruit(fruit, hungryfor)"
      ],
      "metadata": {
        "colab": {
          "base_uri": "https://localhost:8080/"
        },
        "id": "znlQdou7TU3x",
        "outputId": "bb50e4ad-f1a1-4e72-b805-7a07e3bcb2d6"
      },
      "execution_count": 88,
      "outputs": [
        {
          "output_type": "stream",
          "name": "stdout",
          "text": [
            "No ['pasta'] here!\n",
            "No ['pasta'] here!\n",
            "Hooray!  I found ['pasta'] .\n",
            "No ['pasta'] here!\n",
            "No ['pasta'] here!\n",
            "No ['pasta'] here!\n"
          ]
        }
      ]
    },
    {
      "cell_type": "markdown",
      "source": [
        "### Problem 3:  ratings  \n",
        "Write a piece of code which prompts a user with the question \"What is your rating? (1-10)\" and then asks for user input.  Let's say the input is 3.  Once the input is received, print out a message that says.\n",
        "\n",
        "\"Your rating is *** .\"\n",
        "\n",
        "Obviously, your program should print the number of stars corresponding to the input!  If the input is 5, it should print\n",
        "\n",
        "\"Your rating is ***** .\"\n",
        "\n",
        "Show at least two outputs of your code."
      ],
      "metadata": {
        "id": "5CWOlHBz0xoZ"
      }
    },
    {
      "cell_type": "code",
      "source": [
        "# put code here\n",
        "print(\"What is your rating? (1-10)\")\n",
        "user_input = input()\n",
        "rating = int(user_input)\n",
        "print(\"Your rating is\", '*' * rating, \".\")"
      ],
      "metadata": {
        "id": "MCWnTAUW2Gin",
        "colab": {
          "base_uri": "https://localhost:8080/"
        },
        "outputId": "5bd93b96-30ce-4472-8671-3a0cd09e6244"
      },
      "execution_count": 89,
      "outputs": [
        {
          "output_type": "stream",
          "name": "stdout",
          "text": [
            "What is your rating? (1-10)\n",
            "4\n",
            "Your rating is **** .\n"
          ]
        }
      ]
    },
    {
      "cell_type": "code",
      "source": [
        "# you might have to copy the code to show another output\n",
        "# (unless you figure out another way to do it)\n",
        "print(\"What is your rating? (1-10)\")\n",
        "user_input = input()\n",
        "rating = int(user_input)\n",
        "print(\"Your rating is\", '*' * rating, \".\")"
      ],
      "metadata": {
        "id": "nxm67oCk8Ukn",
        "colab": {
          "base_uri": "https://localhost:8080/"
        },
        "outputId": "784fc8a0-4d4e-41e6-e62b-a28c81ff84fe"
      },
      "execution_count": 90,
      "outputs": [
        {
          "output_type": "stream",
          "name": "stdout",
          "text": [
            "What is your rating? (1-10)\n",
            "10\n",
            "Your rating is ********** .\n"
          ]
        }
      ]
    },
    {
      "cell_type": "markdown",
      "source": [
        "You do not have to do this as part of the assignment, but one thing to think about with any code that has **interactivity** is that you want to make it **robust**.  This means you should imagine someone is *trying* to break your code, and you should try to make it as indestructible as possible.\n",
        "\n",
        "What will happen to your code if someone enters 3.5?  Or -12?  Or \"nonsense\"?  Test it and see.  Think about how you might guard against errors.\n"
      ],
      "metadata": {
        "id": "VRfc9puT2yac"
      }
    }
  ]
}