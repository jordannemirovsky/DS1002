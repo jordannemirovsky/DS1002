{
  "nbformat": 4,
  "nbformat_minor": 0,
  "metadata": {
    "colab": {
      "provenance": [],
      "include_colab_link": true
    },
    "kernelspec": {
      "name": "python3",
      "display_name": "Python 3"
    },
    "language_info": {
      "name": "python"
    }
  },
  "cells": [
    {
      "cell_type": "markdown",
      "metadata": {
        "id": "view-in-github",
        "colab_type": "text"
      },
      "source": [
        "<a href=\"https://colab.research.google.com/github/jordannemirovsky/DS1002/blob/main/May3HW.ipynb\" target=\"_parent\"><img src=\"https://colab.research.google.com/assets/colab-badge.svg\" alt=\"Open In Colab\"/></a>"
      ]
    },
    {
      "cell_type": "markdown",
      "source": [
        "## Final homework assignment:  generating text from a corpus\n",
        "\n",
        "Due Friday 3 May at 5 pm"
      ],
      "metadata": {
        "id": "tWbrZqoW5281"
      }
    },
    {
      "cell_type": "markdown",
      "source": [
        "We begin by loading all of Shakespeare's plays into a text file, and separating them into individual words.  This is made easy by the fact that someone already made a giant text file of these plays for us, and put it online.\n",
        "\n",
        "[Note that by changing the url in the following code chunk, you can load any text file that lives online in this way . . . see below.]\n",
        "\n",
        "Run the following code.  It should output a list of ten words, starting with 'From' and ending with 'rose'."
      ],
      "metadata": {
        "id": "7tMMjgkjF7gk"
      }
    },
    {
      "cell_type": "code",
      "source": [
        "from urllib.request import urlopen            #package for reading info from the web\n",
        "url='https://ocw.mit.edu/ans7870/6/6.006/s08/lecturenotes/files/t8.shakespeare.txt'   #web address\n",
        "text = urlopen(url).read().decode('utf-8')    #open web address, read file, convert to text\n",
        "shakespeare_words=text.split()[1651:]         #split text into words (not including preamble)\n",
        "shakespeare_words[:10]                        #display the first 10 words"
      ],
      "metadata": {
        "id": "PoW71ljm2GS-",
        "colab": {
          "base_uri": "https://localhost:8080/"
        },
        "outputId": "ae4c5dbb-9a55-40b1-d9a9-bdcef2798c26"
      },
      "execution_count": 324,
      "outputs": [
        {
          "output_type": "execute_result",
          "data": {
            "text/plain": [
              "['From',\n",
              " 'fairest',\n",
              " 'creatures',\n",
              " 'we',\n",
              " 'desire',\n",
              " 'increase,',\n",
              " 'That',\n",
              " 'thereby',\n",
              " \"beauty's\",\n",
              " 'rose']"
            ]
          },
          "metadata": {},
          "execution_count": 324
        }
      ]
    },
    {
      "cell_type": "markdown",
      "source": [
        "## 1. `nextwords` practice\n",
        "\n",
        "Create a practice function called `createNextwordsPractice` which takes a list of words called `wordlist` and returns a dictionary called `nextwordsPractice`. The keys of `nextwordsPractice` should be all the words in `wordlist`, and the value for any given key should be a list of all the words that follow the key word somewhere in the original `wordlist`.\n",
        "\n"
      ],
      "metadata": {
        "id": "AIeohQaAHRF8"
      }
    },
    {
      "cell_type": "code",
      "source": [
        "def createNextwordsPractice(wordlist):\n",
        "    nextwordsPractice = {}\n",
        "    for i in range(len(wordlist) - 1):\n",
        "        if wordlist[i] in nextwordsPractice:\n",
        "            if wordlist[i + 1] not in nextwordsPractice[wordlist[i]]:\n",
        "                nextwordsPractice[wordlist[i]].append(wordlist[i + 1])\n",
        "        else:\n",
        "            nextwordsPractice[wordlist[i]] = [wordlist[i + 1]]\n",
        "    return nextwordsPractice"
      ],
      "metadata": {
        "id": "2XZa2K3C3InW"
      },
      "execution_count": 354,
      "outputs": []
    },
    {
      "cell_type": "markdown",
      "source": [
        "Run the following code:"
      ],
      "metadata": {
        "id": "FH3N2raWjtfd"
      }
    },
    {
      "cell_type": "code",
      "source": [
        "practice = createNextwordsPractice(shakespeare_words)\n",
        "practice['From']"
      ],
      "metadata": {
        "id": "P3M8beYAjiie",
        "colab": {
          "base_uri": "https://localhost:8080/"
        },
        "outputId": "4da70adc-5cce-42d9-ad2a-4539955a046b"
      },
      "execution_count": 355,
      "outputs": [
        {
          "output_type": "execute_result",
          "data": {
            "text/plain": [
              "['fairest',\n",
              " 'his',\n",
              " 'sullen',\n",
              " 'limits',\n",
              " 'hands',\n",
              " 'whence',\n",
              " 'where',\n",
              " 'me',\n",
              " 'this',\n",
              " 'thy',\n",
              " 'hence',\n",
              " 'thee,',\n",
              " 'you',\n",
              " 'heaven',\n",
              " 'her',\n",
              " 'simple',\n",
              " 'below',\n",
              " 'lowest',\n",
              " 'courtly',\n",
              " 'son',\n",
              " 'the',\n",
              " 'Sicyon,',\n",
              " 'Alexandria',\n",
              " 'Silvius,',\n",
              " 'mine',\n",
              " 'firm',\n",
              " 'Egypt',\n",
              " 'Antony',\n",
              " 'thine',\n",
              " 'that',\n",
              " 'my',\n",
              " 'henceforth',\n",
              " 'tyrant',\n",
              " 'seventeen',\n",
              " 'miserable',\n",
              " 'whom',\n",
              " 'whence,',\n",
              " 'slaves',\n",
              " 'every',\n",
              " 'rascals',\n",
              " \"th'\",\n",
              " 'Rome',\n",
              " 'off',\n",
              " 'these',\n",
              " 'twelve',\n",
              " 'whence?',\n",
              " 'Rome.',\n",
              " 'Gallia',\n",
              " 'fairies',\n",
              " 'most',\n",
              " 'youth',\n",
              " 'whose',\n",
              " 'so',\n",
              " 'one',\n",
              " 'east',\n",
              " 'action',\n",
              " 'Leonati',\n",
              " 'chance',\n",
              " 'south',\n",
              " 'our',\n",
              " 'top',\n",
              " 'me,',\n",
              " 'fashion',\n",
              " 'another',\n",
              " 'Hamlet?',\n",
              " \"Rumour's\",\n",
              " 'a',\n",
              " 'enemies',\n",
              " 'open',\n",
              " \"glist'ring\",\n",
              " 'him,',\n",
              " 'camp',\n",
              " 'helmet',\n",
              " 'him',\n",
              " 'Lionel',\n",
              " 'John',\n",
              " 'famous',\n",
              " 'envious',\n",
              " 'thence',\n",
              " 'bought',\n",
              " 'meaning',\n",
              " \"treason's\",\n",
              " 'such',\n",
              " 'thee',\n",
              " 'Ireland',\n",
              " \"Clifford's\",\n",
              " 'your',\n",
              " 'London',\n",
              " 'Scotland',\n",
              " 'worthy',\n",
              " 'giving',\n",
              " 'France?',\n",
              " 'Ravenspurgh',\n",
              " 'shelves',\n",
              " 'those',\n",
              " 'sincere',\n",
              " 'foreign',\n",
              " 'princes',\n",
              " 'any',\n",
              " 'Ampthill,',\n",
              " 'France',\n",
              " 'first',\n",
              " 'north',\n",
              " 'all',\n",
              " 'forth',\n",
              " 'out',\n",
              " 'which',\n",
              " 'what',\n",
              " 'Goneril',\n",
              " 'seasons',\n",
              " 'tawny',\n",
              " \"reason's\",\n",
              " \"women's\",\n",
              " 'morn',\n",
              " 'Fife,',\n",
              " 'over-credulous',\n",
              " 'too',\n",
              " 'fasting',\n",
              " 'thee;',\n",
              " \"flow'ry\",\n",
              " 'Tripolis,',\n",
              " 'Lisbon,',\n",
              " 'brassy',\n",
              " 'stubborn',\n",
              " 'both,',\n",
              " 'time',\n",
              " 'Athens',\n",
              " \"lovers'\",\n",
              " 'Perigouna,',\n",
              " 'sleeping',\n",
              " \"monster's\",\n",
              " 'Claudio,',\n",
              " 'men',\n",
              " 'year',\n",
              " 'jealousy!',\n",
              " 'some',\n",
              " \"Richard's\",\n",
              " 'sun',\n",
              " \"plume-pluck'd\",\n",
              " 'cold',\n",
              " 'wayward',\n",
              " 'Tamworth',\n",
              " 'ancient',\n",
              " \"Love's\",\n",
              " 'Florence,',\n",
              " 'bogs,',\n",
              " 'Milan',\n",
              " 'toe',\n",
              " 'eaves',\n",
              " 'strange',\n",
              " 'Isidore:',\n",
              " 'change',\n",
              " \"gen'ral\",\n",
              " 'high',\n",
              " 'Alcibiades',\n",
              " 'niggard',\n",
              " 'weary',\n",
              " 'thousand',\n",
              " 'heaven!',\n",
              " 'isles',\n",
              " 'Troy.',\n",
              " \"Cupid's\",\n",
              " 'false',\n",
              " 'certain',\n",
              " 'Troy',\n",
              " 'heart',\n",
              " 'hence,',\n",
              " 'Milan.',\n",
              " 'whom?',\n",
              " 'heartiness,',\n",
              " 'east,',\n",
              " 'course',\n",
              " \"Dis's\"]"
            ]
          },
          "metadata": {},
          "execution_count": 355
        }
      ]
    },
    {
      "cell_type": "code",
      "source": [
        "practice['rose']"
      ],
      "metadata": {
        "id": "W5FCOXElICLb",
        "colab": {
          "base_uri": "https://localhost:8080/"
        },
        "outputId": "eace8c53-b646-4d55-93de-2bb382e20b72"
      },
      "execution_count": 356,
      "outputs": [
        {
          "output_type": "execute_result",
          "data": {
            "text/plain": [
              "['might',\n",
              " 'looks',\n",
              " 'is',\n",
              " 'of',\n",
              " 'Of',\n",
              " 'may',\n",
              " 'will',\n",
              " 'From',\n",
              " 'and',\n",
              " 'both',\n",
              " 'with',\n",
              " 'from',\n",
              " 'side.',\n",
              " 'red,',\n",
              " 'too.',\n",
              " 'in',\n",
              " 'a',\n",
              " 'I',\n",
              " 'against',\n",
              " 'that',\n",
              " 'again,',\n",
              " 'Lest',\n",
              " 'Than',\n",
              " \"distill'd\",\n",
              " 'on',\n",
              " 'up',\n",
              " 'wither.',\n",
              " 'By',\n",
              " 'again?',\n",
              " 'he']"
            ]
          },
          "metadata": {},
          "execution_count": 356
        }
      ]
    },
    {
      "cell_type": "code",
      "source": [
        "practice['rose.']"
      ],
      "metadata": {
        "id": "Vr57wNx5BO4K",
        "colab": {
          "base_uri": "https://localhost:8080/"
        },
        "outputId": "4e5b151f-c4b0-4fb8-8fba-1f12080ef2eb"
      },
      "execution_count": 357,
      "outputs": [
        {
          "output_type": "execute_result",
          "data": {
            "text/plain": [
              "['It']"
            ]
          },
          "metadata": {},
          "execution_count": 357
        }
      ]
    },
    {
      "cell_type": "markdown",
      "source": [
        "## 2. `nextwords` for real:  new sentences.\n",
        "\n",
        "Next, write a new function called `createNextwords` which takes a `wordlist` and returns a dictionary of `nextwords`, but now with a new additional feature.  \n",
        "In addition to the keys from problem 1, add a special key to the dictionary, which will be the symbol '%'.  This key will signify the first word of a sentence. When scanning the wordlist to construct the `nextwords` dictionary, normally you would add `wordlist[i+1]` to the list `nextwords[wordlist[i]]`. However, if `wordlist[i]` ends with a period, then you should instead add `wordlist[i+1]` to the list nextwords['%']. Also add the very first word of `wordlist` to nextwords['%'].\n",
        "\n",
        "\n",
        "You should be able to produce this output:\n",
        "```\n",
        "> shakespeare_nextwords=createNextwords(shakespeare_words)\n",
        "> shakespeare_nextwords['Rose']\n",
        "['at', 'or', 'or', 'and']\n",
        "\n",
        "> shakespeare_nextwords['rose.']\n",
        "[]\n",
        "\n",
        "> len(shakespeare_nextwords['%'])\n",
        "76543\n",
        "```"
      ],
      "metadata": {
        "id": "t221x1X3iRVA"
      }
    },
    {
      "cell_type": "code",
      "source": [
        "def createNextwords(wordlist):\n",
        "    nextwords = {}\n",
        "    for i in range(len(wordlist)-1):\n",
        "        word = wordlist[i]\n",
        "        next_word = wordlist[i+1]\n",
        "        if word not in nextwords:\n",
        "            nextwords[word] = []\n",
        "        if word.endswith('.'):\n",
        "            if '%' not in nextwords:\n",
        "                nextwords['%'] = []\n",
        "            nextwords['%'].append(next_word)\n",
        "        else:\n",
        "            nextwords[word].append(next_word)\n",
        "    if wordlist:\n",
        "        if '%' not in nextwords:\n",
        "            nextwords['%'] = []\n",
        "        nextwords['%'].append(wordlist[0])\n",
        "    return nextwords"
      ],
      "metadata": {
        "id": "Ze_-Uv2alRWX"
      },
      "execution_count": 436,
      "outputs": []
    },
    {
      "cell_type": "markdown",
      "source": [
        "Run the following code:"
      ],
      "metadata": {
        "id": "x7bamoxBlX6Q"
      }
    },
    {
      "cell_type": "code",
      "source": [
        "shakespeare_nextwords = createNextwords(shakespeare_words)\n",
        "\n",
        "print(shakespeare_nextwords['Rose'])\n",
        "print(len(shakespeare_nextwords['%']))"
      ],
      "metadata": {
        "id": "xv4ANlzvlZ2e",
        "colab": {
          "base_uri": "https://localhost:8080/"
        },
        "outputId": "0f11efc1-d95d-4452-b7e1-5ab76c81bd5e"
      },
      "execution_count": 437,
      "outputs": [
        {
          "output_type": "stream",
          "name": "stdout",
          "text": [
            "['at', 'or', 'or', 'and']\n",
            "76543\n"
          ]
        }
      ]
    },
    {
      "cell_type": "code",
      "source": [
        "print(len(shakespeare_nextwords['rose']))"
      ],
      "metadata": {
        "id": "NsLW7PYYCj1r",
        "colab": {
          "base_uri": "https://localhost:8080/"
        },
        "outputId": "e07cc4ad-8146-46a8-9585-f8080863b0b4"
      },
      "execution_count": 438,
      "outputs": [
        {
          "output_type": "stream",
          "name": "stdout",
          "text": [
            "40\n"
          ]
        }
      ]
    },
    {
      "cell_type": "code",
      "source": [
        "print(shakespeare_nextwords['rose.'])"
      ],
      "metadata": {
        "colab": {
          "base_uri": "https://localhost:8080/"
        },
        "id": "71g3ZDmgjpVO",
        "outputId": "8c712f9a-476c-47d7-9cbe-3c83401c84c3"
      },
      "execution_count": 439,
      "outputs": [
        {
          "output_type": "stream",
          "name": "stdout",
          "text": [
            "[]\n"
          ]
        }
      ]
    },
    {
      "cell_type": "markdown",
      "source": [
        "## 3.  Make your own Shakespeare play\n",
        "\n",
        "Okay, that may be a bit of an exaggeration.  Anyway, next up is text generation.  \n",
        "We'll need the choice function:"
      ],
      "metadata": {
        "id": "BCIAfYSIX3VC"
      }
    },
    {
      "cell_type": "code",
      "source": [
        "from random import choice"
      ],
      "metadata": {
        "id": "rbBHDv55Biae"
      },
      "execution_count": 368,
      "outputs": []
    },
    {
      "cell_type": "markdown",
      "source": [
        "This function chooses a random element from a list.  Run this code a few times:"
      ],
      "metadata": {
        "id": "-vCM3Z0BmAw9"
      }
    },
    {
      "cell_type": "code",
      "source": [
        "choice([1, 17, 34, 289])"
      ],
      "metadata": {
        "colab": {
          "base_uri": "https://localhost:8080/"
        },
        "id": "FGMf-UmAl_uf",
        "outputId": "b4ce58f2-9222-4365-a403-fd62403b41aa"
      },
      "execution_count": 369,
      "outputs": [
        {
          "output_type": "execute_result",
          "data": {
            "text/plain": [
              "289"
            ]
          },
          "metadata": {},
          "execution_count": 369
        }
      ]
    },
    {
      "cell_type": "markdown",
      "source": [
        "Now, create a function called `makePlay(nextwords,n)` which takes a dictionary `nextwords` and a number `n`, and follows these steps:\n",
        "1. Define an empty `newplay` string.  (I did this for you.)\n",
        "2. Set `currentword` equal to '%'.\n",
        "3. Start a for-loop that will run `n` times.\n",
        "4. Randomly choose a word from the list `nextwords[currentword]`.\n",
        "5. Add the chosen word to `newplay`, followed by a space `' '` character.\n",
        "6. If the chosen word ends in a period, add a newline character '\\n' and set `currentword` equal to `%`.\n",
        "7. Otherwise, set `currentword` equal to the chosen word.\n",
        "8. Go back to step 4.\n",
        "9. When all `n` iterations have finished, your function should return `newplay`."
      ],
      "metadata": {
        "id": "ZmLqxclQYMpl"
      }
    },
    {
      "cell_type": "code",
      "source": [
        "import random\n",
        "\n",
        "def makePlay(nextwords,n):\n",
        "    newplay=''\n",
        "    currentword = '%'\n",
        "    for _ in range(n):\n",
        "        if currentword in nextwords:\n",
        "            next_word_list = nextwords[currentword]\n",
        "            chosen_word = random.choice(next_word_list)\n",
        "            newplay += chosen_word + ' '\n",
        "            if chosen_word.endswith('.'):\n",
        "                newplay += '\\n'\n",
        "                currentword = '%'\n",
        "            else:\n",
        "                currentword = chosen_word\n",
        "    return newplay"
      ],
      "metadata": {
        "id": "gMxDF-MiYqD2"
      },
      "execution_count": 370,
      "outputs": []
    },
    {
      "cell_type": "markdown",
      "source": [
        "Now create a 1000 word Shakesperian play by running the following code:"
      ],
      "metadata": {
        "id": "v_uCxqDZtuhP"
      }
    },
    {
      "cell_type": "code",
      "source": [
        "nextwords=createNextwords(shakespeare_words)\n",
        "newplay=makePlay(nextwords,1000)\n",
        "print(newplay)"
      ],
      "metadata": {
        "id": "KVtzPXWWEdDR",
        "colab": {
          "base_uri": "https://localhost:8080/"
        },
        "outputId": "b74b2163-7beb-478a-a34f-d2f5ea0a8cf6"
      },
      "execution_count": 371,
      "outputs": [
        {
          "output_type": "stream",
          "name": "stdout",
          "text": [
            "You see what can do, giving liberty procured. \n",
            "May prove The armipotent Mars, This admiration, that rais'd the Queen's kindred, and that I cannot revel much. \n",
            "ANGELO. \n",
            "TUTOR. \n",
            "For in extremity. \n",
            "Say thou clay-brain'd guts, that the end-all -here, But forbear, And hath cross'd the goodly armour that sunshine of the way for I'll use not. \n",
            "Come, come, be so, it is there By my lord, From you are their lack of such grace and sweetly spring- I your high-swol'n hearts, Thy sad or more to thy body's length. \n",
            "Then shall shame in the day made; she sits the disciplines of war. \n",
            "Fool. \n",
            "He, more sounder man may I leave battering, I do leave sack, and careless patient ears thus the disposition Sticks me then, in their own country, speed is meet with SILIUS and learned? Why, that word. \n",
            "ARIEL. \n",
            "Serv. \n",
            "SECOND GENTLEMAN. \n",
            "CLOWN. \n",
            "I am Antony bid him I will owe thee? FRANCISCO. \n",
            "TITUS. \n",
            "This is young, my Queen. \n",
            "Come, you be shortly shall become an act a noise or hearing our sometime a sleep. \n",
            "Marry, to lay out. \n",
            "Most truly I am drunk: this had a man so your father In mouths That comes back dismay'd? 'Tis Gaultree Forest, an't please you, madam? Hero. \n",
            "IAGO. \n",
            "Marry, this, holds belief from watch the music oft for a bond Which was not the mayor along. \n",
            "Take your about an interior survey of them forth From the court in dreaming, The ruthless flint bears it! it appears so emboss'd. \n",
            "Believe me, and by your mother's son Shall we devis'd And from your answer. \n",
            "I think. \n",
            "Do break from their finger he is, my glass; even thus; my heart within this once, an ancient swagg'rer comes the air, I at high pay me for their sport Forsook his aid as his father, Vincentio? BIONDELLO. \n",
            "Nursing of alt'ring rheums? Can sick for that evil manners call us some six Barbary cock-pigeon over shoes than shame thy record could be the bridge most peerless feature, joined with my friend, and discredit the ground with all the Tower. \n",
            "What, are not so. \n",
            "Be gone, my father lost; but eleven die dry oats. \n",
            "So early tongue In prison Enter HOST, CAIUS, and thereof may well as easy roads, he that the power pities nether lip? Some say she's a house, the very pretty brabble did I. \n",
            "Believe me, wishing a young as wholesome physic did retire, With something that made me, most absurd, whose form would discover him, and are my gentle tongue? You must act of age, my standard. \n",
            "Cup us raise a French lay claim until his new-made emperess. \n",
            "KING and OTHERS PERSONAL USE ONLY, AND CLEOPATRA and that must Pompey was, and I, Fixing it hoars ere I might err Against the kingdom? ALL. \n",
            "Pardon me, knight; for, besides methinks I left their graves stood out; For if the heavens, taking off. \n",
            "O devil, on my birth? FIRST STRANGER. \n",
            "I am a custom. \n",
            "Come, sir, Do you are here. \n",
            "It was made a shriver, 'twas the time once more what goddess On them a blank of age is call'd here observing kind heart. \n",
            "He sings he: 'Cuckoo; Cuckoo, cuckoo'- O Austria! thou couldst! Exeunt. \n",
            "That's a palm from tears. \n",
            "Thou'rt damn'd oblivion is well begg'd. \n",
            "Exit STEPHANO LORENZO. \n",
            "I shall tread this can be fear'd. \n",
            "Come in the rest to show that madmen lead directly and the stones Prove as twenty years Pluck'd from all this Will you, my lord; we'll tell a father's house; When all the roots, That he does you; and, indeed, sir, of descent: And his father might flourish, trumpets! Strike him, some time, when men as the maid; She that is like his state? QUEEN. \n",
            "Lorenzo is thy feet on this scept'red office and Mark his plate, his manners to invest Their perch, and marrows of death! O, but my lord. \n",
            "And in poetry and packings of the ransom for your wives do I am worth prefer her wheel, That I think- Makes me some harm. \n",
            "Come to you? Should grace must be not John Cade driven back, I see The main parcels of alt'ring things: Alas that lives in your land. \n",
            "Dispatch- this ill fortune falls me wherefore. \n",
            "O valiant lord, I'll none must I have a wicked tongue. \n",
            "His presence straight. \n",
            "A sin-absolver, and by verse to where it his hounds and fairly, or dove, a gib-cat or he shall submit, I would he on cursed head by bad already Some five-and-twenty years, Pass'd over and this land, Thus would truncheon my destruction! This butcher's knife. \n",
            "Yes, it in music SEBASTIAN. \n",
            "Know, sir, but true despite of the god did disrobe me thus, 'I will have but there's an offer nothing A pox o' my offense to him Even when I remember this: The palace Flourish. \n",
            "My hand I groan fort. \n",
            "ELECTRONIC VERSION OF ILLINOIS BENEDICTINE COLLEGE WITH PERMISSION. \n",
            "Marry, you know That with a business; but my business Frowns at this doubtful friends. \n",
            "And thus to a crown That Douglas and our harm: you'll tell thee hence. \n",
            "BIANCA. \n",
            "Shall's attend him a nation He has a man. \n",
            "Exeunt [Don Pedro, Leonato, take the treasons planted. \n",
            "She wakes. \n",
            "First, pardon me; I must you my answers. \n",
            "Long live an earthly audit; sure, when Ye lie, hostess. \n",
            "Yes, it in grace of Edward's son, they went. \n",
            "GLOUCESTER. \n",
            "Madam, sleeps upon my father and valiant Richard, enough; For the dead. \n",
            "Away with our Hector. \n",
            "You do for the verses would I had such devils, but by a fault, though my redemption Is found to say. \n",
            "Report be at first. \n",
            "I will here but a mole, a good night. \n",
            "Farewell, gentle love? Demetrius, wilt thou art? O Hermione, contrary to a favour and is remuneration, for ever to the hue so I know thou of York! but I say! And deal with him depart; Therefore away Richer than pertains to be merry, Which buys lands, and threw it be sought; The civil wounds I fear, and low throughout, that \n"
          ]
        }
      ]
    },
    {
      "cell_type": "markdown",
      "source": [
        "At this point you might enjoy finding other sources of text on the internet and replacing the url at the top of this notebook. You can use song lyrics, news articles, etc. You just need to find files ending with '.txt'. Alternatively, you can copy and paste any block of text from any file into colab, assign it to the variable `text`, and then use wordlist=text.split() to get a list of words."
      ],
      "metadata": {
        "id": "cHcYHBcNu65y"
      }
    },
    {
      "cell_type": "markdown",
      "source": [
        "## Bonus:\n",
        "\n",
        "Recall the following recursive function that we used to define the Fibonacci numbers:"
      ],
      "metadata": {
        "id": "SOZ_vzwJoG45"
      }
    },
    {
      "cell_type": "code",
      "source": [
        "def fibonacci(n):\n",
        "  # Base cases: F(0) = 0, F(1) = 1\n",
        "  if n == 0:\n",
        "    return 0\n",
        "  elif n == 1:\n",
        "    return 1\n",
        "  else:\n",
        "    # Recursive case: F(n) = F(n-1) + F(n-2)\n",
        "    return fibonacci(n - 1) + fibonacci(n - 2)"
      ],
      "metadata": {
        "id": "KTj2L--_oQDu"
      },
      "execution_count": 372,
      "outputs": []
    },
    {
      "cell_type": "markdown",
      "source": [
        "Here is the question.  If you run this line of code:  \n",
        "`fibonacci(17)`  \n",
        "how many times does the function `fibonacci()` get called?  \n",
        "(The answer is not 1597, which is the value returned by the function.)"
      ],
      "metadata": {
        "id": "C-PtiPKwod0m"
      }
    },
    {
      "cell_type": "code",
      "source": [
        "def fibonacci_calls(n):\n",
        "    if n == 0 or n == 1:\n",
        "        return 1\n",
        "    return 1 + fibonacci_calls(n-1) + fibonacci_calls(n-2)\n",
        "\n",
        "n = 17\n",
        "calls = fibonacci_calls(n)\n",
        "print(f\"fibonacci({n}) is called {calls} times.\")"
      ],
      "metadata": {
        "colab": {
          "base_uri": "https://localhost:8080/"
        },
        "id": "ZyQESiRohd6s",
        "outputId": "d48335c4-52b5-4cc1-8800-99e36b4aa476"
      },
      "execution_count": 373,
      "outputs": [
        {
          "output_type": "stream",
          "name": "stdout",
          "text": [
            "fibonacci(17) is called 5167 times.\n"
          ]
        }
      ]
    }
  ]
}