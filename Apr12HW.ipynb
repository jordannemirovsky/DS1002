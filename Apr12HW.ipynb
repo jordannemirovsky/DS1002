{
  "cells": [
    {
      "cell_type": "markdown",
      "metadata": {
        "id": "view-in-github",
        "colab_type": "text"
      },
      "source": [
        "<a href=\"https://colab.research.google.com/github/jordannemirovsky/DS1002/blob/main/Apr12HW.ipynb\" target=\"_parent\"><img src=\"https://colab.research.google.com/assets/colab-badge.svg\" alt=\"Open In Colab\"/></a>"
      ]
    },
    {
      "cell_type": "markdown",
      "metadata": {
        "id": "Pz4oXuFbf1pe"
      },
      "source": [
        "## Capital Asset Pricing Model (CAPM)\n",
        "\n",
        "### Assignment due Monday 22 April at noon\n",
        "\n",
        "---"
      ]
    },
    {
      "cell_type": "markdown",
      "metadata": {
        "id": "bHqzHCZnf1pg"
      },
      "source": [
        "2.  Load the packages and data.  (Note that the following code chunk also hard-codes the constant $R_f$.)  \n",
        "The data lives in the file `capm_market_data` in the `data` folder on the `GitHub` site."
      ]
    },
    {
      "cell_type": "code",
      "execution_count": 13,
      "metadata": {
        "id": "iRPr8YvJf1pg"
      },
      "outputs": [],
      "source": [
        "#load numpy and pandas packages\n",
        "import numpy as np\n",
        "import pandas as pd\n",
        "\n",
        "#get data\n",
        "capm = pd.read_csv('capm_market_data.csv')\n",
        "\n",
        "#risk-free Treasury rate\n",
        "R_f = 0.0175 / 252"
      ]
    },
    {
      "cell_type": "markdown",
      "metadata": {
        "id": "PLXAZx6xf1ph"
      },
      "source": [
        "3.  Look at some records.  \n",
        "SPY is something that mirrors the S&P 500 (\"the market\").  \n",
        "AAPL is the code for Apple stock.  \n",
        "The values are closing prices, adjusted for splits and dividends."
      ]
    },
    {
      "cell_type": "code",
      "execution_count": 14,
      "metadata": {
        "id": "747y_ickf1ph",
        "colab": {
          "base_uri": "https://localhost:8080/"
        },
        "outputId": "9d576443-a5ed-4d1d-dcd9-13fc9123c679"
      },
      "outputs": [
        {
          "output_type": "stream",
          "name": "stdout",
          "text": [
            "         date  spy_adj_close  aapl_adj_close\n",
            "0  2020-01-02     321.555786      298.829956\n",
            "1  2020-01-03     319.120911      295.924713\n",
            "2  2020-01-06     320.338379      298.282715\n",
            "3  2020-01-07     319.437653      296.879883\n",
            "4  2020-01-08     321.140106      301.655548\n",
            "5  2020-01-09     323.317627      308.062988\n",
            "6  2020-01-10     322.387207      308.759399\n",
            "7  2020-01-13     324.604401      315.355865\n",
            "8  2020-01-14     324.109497      311.097534\n",
            "9  2020-01-15     324.841919      309.764313\n"
          ]
        }
      ],
      "source": [
        "#looking at the first 10 rows\n",
        "print(capm.head(10))"
      ]
    },
    {
      "cell_type": "markdown",
      "metadata": {
        "id": "y8uzBoHpf1ph"
      },
      "source": [
        "4.  Drop the date column"
      ]
    },
    {
      "cell_type": "code",
      "execution_count": 15,
      "metadata": {
        "id": "1rUGRXnQf1ph"
      },
      "outputs": [],
      "source": [
        "capm = capm.drop(columns=['date'])"
      ]
    },
    {
      "cell_type": "code",
      "source": [
        "#making sure column was dropped\n",
        "print(capm.head(10))"
      ],
      "metadata": {
        "colab": {
          "base_uri": "https://localhost:8080/"
        },
        "id": "763P8yLpl2yX",
        "outputId": "870da3cd-88f6-46e6-8575-1669d431f1fb"
      },
      "execution_count": 17,
      "outputs": [
        {
          "output_type": "stream",
          "name": "stdout",
          "text": [
            "   spy_adj_close  aapl_adj_close\n",
            "0     321.555786      298.829956\n",
            "1     319.120911      295.924713\n",
            "2     320.338379      298.282715\n",
            "3     319.437653      296.879883\n",
            "4     321.140106      301.655548\n",
            "5     323.317627      308.062988\n",
            "6     322.387207      308.759399\n",
            "7     324.604401      315.355865\n",
            "8     324.109497      311.097534\n",
            "9     324.841919      309.764313\n"
          ]
        }
      ]
    },
    {
      "cell_type": "markdown",
      "metadata": {
        "id": "fyE1w8F2f1ph"
      },
      "source": [
        "5.  Compute daily returns (percentage changes in price) for both SPY and AAPL.\n",
        "(Be sure to drop the first row of NaN.)  \n",
        "Hint: pandas has functions to easily do this.  \n",
        "Print the first 5 rows of returns.\n"
      ]
    },
    {
      "cell_type": "code",
      "execution_count": 18,
      "metadata": {
        "id": "8aCLOA08f1pi",
        "colab": {
          "base_uri": "https://localhost:8080/"
        },
        "outputId": "6a6029bb-d49a-40a3-b037-19c55fafffc2"
      },
      "outputs": [
        {
          "output_type": "stream",
          "name": "stdout",
          "text": [
            "   spy_adj_close  aapl_adj_close\n",
            "1      -0.007572       -0.009722\n",
            "2       0.003815        0.007968\n",
            "3      -0.002812       -0.004703\n",
            "4       0.005330        0.016086\n",
            "5       0.006781        0.021241\n"
          ]
        }
      ],
      "source": [
        "returns = capm[['spy_adj_close', 'aapl_adj_close']].pct_change()\n",
        "\n",
        "returns = returns.dropna()\n",
        "\n",
        "print(returns.head())"
      ]
    },
    {
      "cell_type": "markdown",
      "metadata": {
        "id": "qA51CJQUf1pi"
      },
      "source": [
        "6.  Save the SPY and AAPL returns into separate numpy arrays.  \n",
        "Print the first five values from each of the two arrays.\n"
      ]
    },
    {
      "cell_type": "code",
      "execution_count": 21,
      "metadata": {
        "id": "uTx4aa7of1pi",
        "colab": {
          "base_uri": "https://localhost:8080/"
        },
        "outputId": "404f2d2c-8e4b-4849-ce77-4843f1c4ac65"
      },
      "outputs": [
        {
          "output_type": "stream",
          "name": "stdout",
          "text": [
            "[-0.00757217  0.00381507 -0.0028118   0.00532953  0.00678059]\n"
          ]
        }
      ],
      "source": [
        "#SPY\n",
        "spy_returns = returns['spy_adj_close'].values\n",
        "print(spy_returns[:5])"
      ]
    },
    {
      "cell_type": "code",
      "source": [
        "#AAPL\n",
        "aapl_returns = returns['aapl_adj_close'].values\n",
        "print(aapl_returns[:5])"
      ],
      "metadata": {
        "colab": {
          "base_uri": "https://localhost:8080/"
        },
        "id": "BG5jg-g1mTtc",
        "outputId": "a1b000cd-ae74-420f-814e-47ada7088d52"
      },
      "execution_count": 22,
      "outputs": [
        {
          "output_type": "stream",
          "name": "stdout",
          "text": [
            "[-0.00972206  0.00796825 -0.00470303  0.01608619  0.02124092]\n"
          ]
        }
      ]
    },
    {
      "cell_type": "markdown",
      "metadata": {
        "id": "SO4C0unXf1pi"
      },
      "source": [
        "7.  Make arrays (one for SPY, one for AAPL) containing the *excess* returns by subtracting the constant $R_f$ from the returns.  \n",
        "(Recall that $R_f$ is the \"risk-free rate\" meaning essentially that you could earn this much in interest if you didn't invest in anything.)  \n",
        "Print the LAST five excess returns from both SPY and AAPL numpy arrays."
      ]
    },
    {
      "cell_type": "code",
      "execution_count": 23,
      "metadata": {
        "id": "o8XOunw5f1pi",
        "colab": {
          "base_uri": "https://localhost:8080/"
        },
        "outputId": "5737f45d-cb8d-4d6f-dd15-005a97aa71be"
      },
      "outputs": [
        {
          "output_type": "stream",
          "name": "stdout",
          "text": [
            "[-0.00576237  0.0101411  -0.00872841  0.01288957  0.00911779]\n"
          ]
        }
      ],
      "source": [
        "#SPY\n",
        "spy_excess_returns = spy_returns - R_f\n",
        "print(spy_excess_returns[-5:])"
      ]
    },
    {
      "cell_type": "code",
      "source": [
        "#AAPL\n",
        "aapl_excess_returns = aapl_returns - R_f\n",
        "print(aapl_excess_returns[-5:])"
      ],
      "metadata": {
        "colab": {
          "base_uri": "https://localhost:8080/"
        },
        "id": "hPB2h4kXmzK-",
        "outputId": "8c614e75-c1a6-4e3b-9dce-0bfd2115b65d"
      },
      "execution_count": 24,
      "outputs": [
        {
          "output_type": "stream",
          "name": "stdout",
          "text": [
            "[ 0.00423088  0.00167981 -0.00468264  0.01647898  0.00680788]\n"
          ]
        }
      ]
    },
    {
      "cell_type": "markdown",
      "metadata": {
        "id": "-DUdB1GGf1pi"
      },
      "source": [
        "8. Make a scatterplot with SPY excess returns on the $x$-axis and AAPL excess returns on the $y$-axis.  \n",
        "If you need it, here is the [Matplotlib documentation]( https://matplotlib.org/stable/api/_as_gen/matplotlib.pyplot.scatter.html)."
      ]
    },
    {
      "cell_type": "code",
      "execution_count": 26,
      "metadata": {
        "id": "ucDTjQOmf1pi",
        "colab": {
          "base_uri": "https://localhost:8080/",
          "height": 472
        },
        "outputId": "de80e103-1236-417e-f1c7-4ad558aa18db"
      },
      "outputs": [
        {
          "output_type": "display_data",
          "data": {
            "text/plain": [
              "<Figure size 640x480 with 1 Axes>"
            ],
            "image/png": "[encoded data removed]"
          },
          "metadata": {}
        }
      ],
      "source": [
        "import matplotlib.pyplot as plt\n",
        "\n",
        "plt.scatter(spy_excess_returns, aapl_excess_returns, color='blue')\n",
        "plt.xlabel('SPY Excess Returns')\n",
        "plt.ylabel('AAPL Excess Returns')\n",
        "plt.title('SPY Excess Returns vs AAPL Excess Returns')\n",
        "plt.show()"
      ]
    },
    {
      "cell_type": "markdown",
      "metadata": {
        "id": "LCJPl-d9f1pi"
      },
      "source": [
        "The value of $\\beta_A$ is computed from the arrays you built in problem 7, via a formula that uses some statistical functions called the \"variance\" and the \"covariance.\"\n",
        "\n",
        "Any individual 1-d array of numbers has a variance, which you can compute using `numpy`'s function `var()` (documented [here](https://numpy.org/doc/stable/reference/generated/numpy.var.html)).  This is a number.\n",
        "\n",
        "If you have two 1-d arrays of the same length, they collectively have something called a covariance which `numpy` also can compute using `cov()` (documented [here](https://numpy.org/doc/stable/reference/generated/numpy.cov.html)).\n",
        "\n",
        "The covariance is also a number, but look at what happens when you send two 1-d arrays to `cov()`: it returns a $2\\times 2$ matrix.  (Try it!)  The covariance we are looking for is the number that lives in both the top right and the bottom left of this matrix.  (Those two numbers should be the same.)  The top left and bottom right entries of the covariance matrix also have meaning, but we don't need them.\n",
        "\n"
      ]
    },
    {
      "cell_type": "code",
      "source": [
        "#send two 1-d arrays to cov()\n",
        "x = np.array([2, 4, 6, 8, 10])\n",
        "y = np.array([1, 3, 5, 7, 19])\n",
        "\n",
        "cov_matrix = np.cov(x, y)\n",
        "\n",
        "print(cov_matrix)"
      ],
      "metadata": {
        "colab": {
          "base_uri": "https://localhost:8080/"
        },
        "id": "kygO3WhFnzJk",
        "outputId": "36012388-4ecc-4d43-9dd2-9da042941946"
      },
      "execution_count": 27,
      "outputs": [
        {
          "output_type": "stream",
          "name": "stdout",
          "text": [
            "[[10. 20.]\n",
            " [20. 50.]]\n"
          ]
        }
      ]
    },
    {
      "cell_type": "markdown",
      "source": [
        "9. Use `numpy` functions as described above to compute the estimate of $\\beta_A$, using the following formula:  \n",
        "\\begin{aligned} \\beta_A= \\frac{ \\text{cov}(A,SP) }{ \\text{var}(SP) } \\end{aligned}\n",
        "In our context, A will be the 1-d array you made in problem 7 for AAPL, and SP will be the 1-d array you made for SPY."
      ],
      "metadata": {
        "id": "bb0j7Vi7quGp"
      }
    },
    {
      "cell_type": "code",
      "execution_count": 36,
      "metadata": {
        "id": "blGso0pMf1pj",
        "colab": {
          "base_uri": "https://localhost:8080/"
        },
        "outputId": "110c743e-c64e-40cf-e8ad-19af0ed50a5d"
      },
      "outputs": [
        {
          "output_type": "stream",
          "name": "stdout",
          "text": [
            "1.0956172644197222\n"
          ]
        }
      ],
      "source": [
        "#computing the covariance matrix\n",
        "cov_matrix = np.cov(aapl_excess_returns, spy_excess_returns)\n",
        "\n",
        "#numerator\n",
        "cov_a_sp = cov_matrix[0, 1]\n",
        "\n",
        "#denominator\n",
        "var_sp = np.var(spy_excess_returns)\n",
        "\n",
        "#beta estimate calculation\n",
        "beta_aapl = cov_a_sp / var_sp\n",
        "\n",
        "print(beta_aapl)"
      ]
    },
    {
      "cell_type": "markdown",
      "metadata": {
        "id": "02POpgABf1pj"
      },
      "source": [
        "You should have found that the beta estimate is greater than one.  \n",
        "This means that the volatility of AAPL stock, given the data, and according to this particular (flawed) model,\n",
        "is higher than the volatility of the S&P 500.\n",
        "\n",
        "Bonus:  Is this something you can see on the plot you made?\n",
        "\n"
      ]
    },
    {
      "cell_type": "markdown",
      "source": [
        "Bonus answer: It is hard to say a definitive yes to this question as the points are clumped together. However, there seems to be a positive relationship between SPY and AAPL excess returns. So we can assume that when SPY is experiencing high volatility, so is AAPL and vice versa. Because the beta estimate is greater than one but only slightly, my guess is the points reflect a similar situation in which the volatility of AAPL may be higher than SPY but only slightly."
      ],
      "metadata": {
        "id": "aeLasrWag1S4"
      }
    },
    {
      "cell_type": "markdown",
      "metadata": {
        "id": "5jCGs8igf1pj"
      },
      "source": [
        "Finally, let's look at how sensitive the beta is to each data point.   \n",
        "We want to drop each data point (one at a time), compute \\\\(\\hat\\beta_i\\\\) using our formula from above, and save each measurement.\n",
        "\n",
        "This is called *jackknifing*.\n",
        "\n"
      ]
    },
    {
      "cell_type": "markdown",
      "source": [
        "10. Write a function called `beta_sensitivity()` with these specs:\n",
        "\n",
        "- take numpy arrays `x` and `y` as inputs\n",
        "- outputs a list of tuples, so that each tuple contains (observation row dropped, beta estimate)\n",
        "\n",
        "Hint: **np.delete(x, i).reshape(-1,1)** will delete observation i from array x, and make it a column vector"
      ],
      "metadata": {
        "id": "VhlkawRDeV8Z"
      }
    },
    {
      "cell_type": "code",
      "execution_count": 43,
      "metadata": {
        "id": "LyT1XSF8f1pj"
      },
      "outputs": [],
      "source": [
        "def beta_sensitivity(x, y):\n",
        "    \"\"\"\n",
        "    Calculate sensitivity of beta estimates.\n",
        "\n",
        "    Args:\n",
        "    x: input array.\n",
        "    y: input array.\n",
        "\n",
        "    Returns:\n",
        "    list of tuples each containing (observation row dropped, beta estimate).\n",
        "    \"\"\"\n",
        "    beta_sensitivity_list = []\n",
        "    for i in range(len(x)):\n",
        "        x_temp = np.delete(x, i).reshape(-1, 1)\n",
        "        y_temp = np.delete(y, i).reshape(-1, 1)\n",
        "\n",
        "        #beta estimate calculation\n",
        "        cov_matrix = np.cov(y_temp.flatten(), x_temp.flatten(), ddof=0)\n",
        "        cov_xy = cov_matrix[0, 1]\n",
        "        var_x = np.var(x_temp.flatten(), ddof=0)\n",
        "        beta_estimate = cov_xy / var_x\n",
        "\n",
        "        beta_sensitivity_list.append((i, beta_estimate))\n",
        "\n",
        "    return beta_sensitivity_list"
      ]
    },
    {
      "cell_type": "markdown",
      "metadata": {
        "id": "L9u4bfjtf1pj"
      },
      "source": [
        "11. Call `beta_sensitivity()` on the arrays A and SP from earlier and print the first ten tuples of output."
      ]
    },
    {
      "cell_type": "code",
      "execution_count": 44,
      "metadata": {
        "id": "vaz9ozp6f1pj",
        "colab": {
          "base_uri": "https://localhost:8080/"
        },
        "outputId": "ed852543-4001-460f-e818-cf90ee4f1993"
      },
      "outputs": [
        {
          "output_type": "stream",
          "name": "stdout",
          "text": [
            "0 1.0871485760197404\n",
            "1 1.0873812467606678\n",
            "2 1.087318593588072\n",
            "3 1.0870279695294356\n",
            "4 1.0866731043986635\n",
            "5 1.0875498483334438\n",
            "6 1.0866602713621312\n",
            "7 1.0871698778060463\n",
            "8 1.0876109961559735\n",
            "9 1.0873303135321322\n"
          ]
        }
      ],
      "source": [
        "sensitivity_list = beta_sensitivity(spy_excess_returns, aapl_excess_returns)\n",
        "\n",
        "for sensitivity in sensitivity_list[:10]:\n",
        "    print(sensitivity[0], sensitivity[1])"
      ]
    }
  ],
  "metadata": {
    "kernelspec": {
      "display_name": "Python 3.8.9 64-bit",
      "language": "python",
      "name": "python3"
    },
    "language_info": {
      "codemirror_mode": {
        "name": "ipython",
        "version": 3
      },
      "file_extension": ".py",
      "mimetype": "text/x-python",
      "name": "python",
      "nbconvert_exporter": "python",
      "pygments_lexer": "ipython3",
      "version": "3.8.9"
    },
    "vscode": {
      "interpreter": {
        "hash": "31f2aee4e71d21fbe5cf8b01ff0e069b9275f58929596ceb00d14d90e3e16cd6"
      }
    },
    "colab": {
      "provenance": [],
      "include_colab_link": true
    }
  },
  "nbformat": 4,
  "nbformat_minor": 0
}