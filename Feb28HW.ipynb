{
  "nbformat": 4,
  "nbformat_minor": 0,
  "metadata": {
    "colab": {
      "provenance": [],
      "authorship_tag": "ABX9TyNCu1DixmUll/pgfjyTaoic",
      "include_colab_link": true
    },
    "kernelspec": {
      "name": "python3",
      "display_name": "Python 3"
    },
    "language_info": {
      "name": "python"
    }
  },
  "cells": [
    {
      "cell_type": "markdown",
      "metadata": {
        "id": "view-in-github",
        "colab_type": "text"
      },
      "source": [
        "<a href=\"https://colab.research.google.com/github/jordannemirovsky/DS1002/blob/main/Feb28HW.ipynb\" target=\"_parent\"><img src=\"https://colab.research.google.com/assets/colab-badge.svg\" alt=\"Open In Colab\"/></a>"
      ]
    },
    {
      "cell_type": "code",
      "execution_count": 1,
      "metadata": {
        "colab": {
          "base_uri": "https://localhost:8080/"
        },
        "id": "Wt08vJ7nA8PD",
        "outputId": "4ba456cf-ca6b-46d1-9016-007c1daa0aeb"
      },
      "outputs": [
        {
          "output_type": "stream",
          "name": "stdout",
          "text": [
            "Collecting english_words\n",
            "  Downloading english-words-2.0.1.tar.gz (8.2 MB)\n",
            "\u001b[2K     \u001b[90m━━━━━━━━━━━━━━━━━━━━━━━━━━━━━━━━━━━━━━━━\u001b[0m \u001b[32m8.2/8.2 MB\u001b[0m \u001b[31m21.4 MB/s\u001b[0m eta \u001b[36m0:00:00\u001b[0m\n",
            "\u001b[?25h  Installing build dependencies ... \u001b[?25l\u001b[?25hdone\n",
            "  Getting requirements to build wheel ... \u001b[?25l\u001b[?25hdone\n",
            "  Preparing metadata (pyproject.toml) ... \u001b[?25l\u001b[?25hdone\n",
            "Building wheels for collected packages: english_words\n",
            "  Building wheel for english_words (pyproject.toml) ... \u001b[?25l\u001b[?25hdone\n",
            "  Created wheel for english_words: filename=english_words-2.0.1-py3-none-any.whl size=8196238 sha256=b68282b1132403105157e72b355ca26191a8ad7789065febab6b74d1f9f1da7c\n",
            "  Stored in directory: /root/.cache/pip/wheels/f0/e6/d9/16a123647999fe535f03a36e7af23eef203736d84c7ca25b0b\n",
            "Successfully built english_words\n",
            "Installing collected packages: english_words\n",
            "Successfully installed english_words-2.0.1\n"
          ]
        }
      ],
      "source": [
        "!pip install english_words\n",
        "from english_words import get_english_words_set\n",
        "words = get_english_words_set(['web2'], lower=True)"
      ]
    },
    {
      "cell_type": "code",
      "source": [
        "type(words)"
      ],
      "metadata": {
        "colab": {
          "base_uri": "https://localhost:8080/"
        },
        "id": "Hz48Flp4BiQP",
        "outputId": "148c3ace-eee5-4e13-d2b8-aa477de1fe7e"
      },
      "execution_count": 2,
      "outputs": [
        {
          "output_type": "execute_result",
          "data": {
            "text/plain": [
              "set"
            ]
          },
          "metadata": {},
          "execution_count": 2
        }
      ]
    },
    {
      "cell_type": "code",
      "source": [
        "wordlist = list(words)"
      ],
      "metadata": {
        "id": "EV6IZaOACOFs"
      },
      "execution_count": 3,
      "outputs": []
    },
    {
      "cell_type": "code",
      "source": [
        "len(wordlist)"
      ],
      "metadata": {
        "colab": {
          "base_uri": "https://localhost:8080/"
        },
        "id": "kgh7KQGGCaZu",
        "outputId": "162d76eb-5131-43c6-8cbe-cdd03f922311"
      },
      "execution_count": 4,
      "outputs": [
        {
          "output_type": "execute_result",
          "data": {
            "text/plain": [
              "234450"
            ]
          },
          "metadata": {},
          "execution_count": 4
        }
      ]
    },
    {
      "cell_type": "code",
      "source": [
        "print(wordlist[:10])"
      ],
      "metadata": {
        "colab": {
          "base_uri": "https://localhost:8080/"
        },
        "id": "WFQSVvKnCeC2",
        "outputId": "6ec57f46-04a8-47b3-ca2d-f7e75fa680b2"
      },
      "execution_count": 5,
      "outputs": [
        {
          "output_type": "stream",
          "name": "stdout",
          "text": [
            "['isopleura', 'gigback', 'francophilism', 'schoenobatic', 'extradition', 'abiogenesist', 'glucose', 'coneflower', 'synopses', 'hairwork']\n"
          ]
        }
      ]
    },
    {
      "cell_type": "markdown",
      "source": [
        "I notice that these words are very random. There is no theme or connection. I don't know the meaning to some of them as I don't think some of the words are even english."
      ],
      "metadata": {
        "id": "MoikngcQCnyR"
      }
    },
    {
      "cell_type": "code",
      "source": [
        "alpha_list = sorted(wordlist)"
      ],
      "metadata": {
        "id": "M_l9WsCOClje"
      },
      "execution_count": 8,
      "outputs": []
    },
    {
      "cell_type": "code",
      "source": [
        "print(alpha_list[:10])"
      ],
      "metadata": {
        "colab": {
          "base_uri": "https://localhost:8080/"
        },
        "id": "8DhXBQ6HDQJZ",
        "outputId": "4fd45dd5-9372-4a13-fd66-973d979a69ad"
      },
      "execution_count": 9,
      "outputs": [
        {
          "output_type": "stream",
          "name": "stdout",
          "text": [
            "['a', 'aa', 'aal', 'aalii', 'aam', 'aani', 'aardvark', 'aardwolf', 'aaron', 'aaronic']\n"
          ]
        }
      ]
    },
    {
      "cell_type": "code",
      "source": [
        "a_words = 0\n",
        "\n",
        "for words in wordlist:\n",
        "    if words[0]=='a':\n",
        "        a_words += 1\n",
        "\n",
        "print(a_words)"
      ],
      "metadata": {
        "colab": {
          "base_uri": "https://localhost:8080/"
        },
        "id": "ToJ0KjaCIPfO",
        "outputId": "efdb0507-92d4-49ea-dafb-fd5478dddd1d"
      },
      "execution_count": 10,
      "outputs": [
        {
          "output_type": "stream",
          "name": "stdout",
          "text": [
            "16982\n"
          ]
        }
      ]
    },
    {
      "cell_type": "code",
      "source": [
        "def q_words(wordlist):\n",
        "    q_count = sum(1 for words in wordlist if \"q\" in words)\n",
        "    return q_count\n",
        "\n",
        "q_count_ = q_words(wordlist)\n",
        "\n",
        "print(q_count_)"
      ],
      "metadata": {
        "colab": {
          "base_uri": "https://localhost:8080/"
        },
        "id": "XP8uh5N0JEnS",
        "outputId": "c71081c4-7413-450b-b55c-06860a972007"
      },
      "execution_count": 11,
      "outputs": [
        {
          "output_type": "stream",
          "name": "stdout",
          "text": [
            "3624\n"
          ]
        }
      ]
    },
    {
      "cell_type": "code",
      "source": [
        "def e_words(wordlist):\n",
        "    e_count = sum(1 for words in wordlist if \"e\" in words)\n",
        "    return e_count\n",
        "\n",
        "e_count_ = e_words(wordlist)\n",
        "print(e_count_)\n",
        "\n",
        "total_words = len(wordlist)\n",
        "non_e_words = total_words - e_count_\n",
        "print(non_e_words)\n",
        "\n",
        "fraction_non_e_words = non_e_words / total_words\n",
        "print(fraction_non_e_words)"
      ],
      "metadata": {
        "colab": {
          "base_uri": "https://localhost:8080/"
        },
        "id": "KLzb0UU1Lr-l",
        "outputId": "39d7f857-e0f0-4e37-94a2-b23299b1f7aa"
      },
      "execution_count": 12,
      "outputs": [
        {
          "output_type": "stream",
          "name": "stdout",
          "text": [
            "157484\n",
            "76966\n",
            "0.32828321603753463\n"
          ]
        }
      ]
    },
    {
      "cell_type": "code",
      "source": [
        "import numpy as np"
      ],
      "metadata": {
        "id": "SPGlLRRqLnNj"
      },
      "execution_count": 13,
      "outputs": []
    },
    {
      "cell_type": "code",
      "source": [
        "wordlist_a = np.array(wordlist)\n",
        "alpha_list_a = np.array(alpha_list)"
      ],
      "metadata": {
        "id": "0f2N0DzkLpO8"
      },
      "execution_count": 14,
      "outputs": []
    },
    {
      "cell_type": "code",
      "source": [
        "alphabet = [chr(i) for i in range(ord('a'),ord('z')+1)]"
      ],
      "metadata": {
        "id": "f525FnBoa8dE"
      },
      "execution_count": 15,
      "outputs": []
    },
    {
      "cell_type": "markdown",
      "source": [
        "This code creates a variable called alphabet that is a list of all the letters of the alphabet from a to z in lowercase."
      ],
      "metadata": {
        "id": "Yuo_XJsNa-0j"
      }
    },
    {
      "cell_type": "code",
      "source": [
        "import matplotlib.pyplot as plt\n",
        "\n",
        "alphabet_counts = {}\n",
        "\n",
        "for words in wordlist:\n",
        "    letter = words[0]\n",
        "    if letter in alphabet_counts:\n",
        "        alphabet_counts[letter] += 1\n",
        "    else:\n",
        "        alphabet_counts[letter] = 1\n",
        "\n",
        "letters = list(alphabet_counts.keys())\n",
        "counts = list(alphabet_counts.values())\n",
        "letters.sort()\n",
        "\n",
        "plt.bar(letters, counts, color='gray')\n",
        "plt.xlabel('Letters')\n",
        "plt.ylabel('Number of Words')\n",
        "plt.title('Number of Words in Wordlist Starting with Each Letter')\n",
        "plt.show()"
      ],
      "metadata": {
        "colab": {
          "base_uri": "https://localhost:8080/",
          "height": 472
        },
        "id": "m08EvAfta-Gr",
        "outputId": "63549ab2-ffb0-4ed7-89c8-6ca1b32fffa3"
      },
      "execution_count": 16,
      "outputs": [
        {
          "output_type": "display_data",
          "data": {
            "text/plain": [
              "<Figure size 640x480 with 1 Axes>"
            ],
            "image/png": "[encoded data removed]"
          },
          "metadata": {}
        }
      ]
    },
    {
      "cell_type": "code",
      "source": [
        "sorted_wordlist = sorted(wordlist, key=len, reverse=True)\n",
        "longest_words = sorted_wordlist[:3]\n",
        "print(longest_words)"
      ],
      "metadata": {
        "colab": {
          "base_uri": "https://localhost:8080/"
        },
        "id": "fZkPy-4beoXd",
        "outputId": "1be0d52a-9980-4bcc-953e-3662202d71b7"
      },
      "execution_count": 17,
      "outputs": [
        {
          "output_type": "stream",
          "name": "stdout",
          "text": [
            "['antidisestablishmentarianism', 'scientificophilosophical', 'pathologicopsychological']\n"
          ]
        }
      ]
    },
    {
      "cell_type": "code",
      "source": [
        "wordlist_lengths = {}\n",
        "\n",
        "for words in wordlist:\n",
        "    length = len(words)\n",
        "    if length in wordlist_lengths:\n",
        "        wordlist_lengths[length] += 1\n",
        "    else:\n",
        "        wordlist_lengths[length] = 1\n",
        "\n",
        "plt.bar(wordlist_lengths.keys(), wordlist_lengths.values(), color=\"gray\")\n",
        "plt.xlabel('Word Length')\n",
        "plt.ylabel('Number of Words')\n",
        "plt.title('Word Lengths of Words in Wordlist')\n",
        "plt.show()"
      ],
      "metadata": {
        "colab": {
          "base_uri": "https://localhost:8080/",
          "height": 472
        },
        "id": "VxfGH4z2jIrg",
        "outputId": "87eeb8c1-30bc-4839-dbd0-5efd52719826"
      },
      "execution_count": 18,
      "outputs": [
        {
          "output_type": "display_data",
          "data": {
            "text/plain": [
              "<Figure size 640x480 with 1 Axes>"
            ],
            "image/png": "[encoded data removed]"
          },
          "metadata": {}
        }
      ]
    },
    {
      "cell_type": "markdown",
      "source": [
        "The most common length of a word is 9 letters."
      ],
      "metadata": {
        "id": "Or2MpkFZlbA9"
      }
    },
    {
      "cell_type": "code",
      "source": [
        "total_count = 0\n",
        "\n",
        "for words in wordlist:\n",
        "  if 'v' in words and 'a' in words:\n",
        "    total_count += 1\n",
        "\n",
        "print(total_count)"
      ],
      "metadata": {
        "colab": {
          "base_uri": "https://localhost:8080/"
        },
        "id": "WJDaduCbqtgd",
        "outputId": "6b49a1e5-c851-4ffb-cbee-fc5155fdfe3b"
      },
      "execution_count": 21,
      "outputs": [
        {
          "output_type": "stream",
          "name": "stdout",
          "text": [
            "11347\n"
          ]
        }
      ]
    },
    {
      "cell_type": "code",
      "source": [
        "total_count2 = 0\n",
        "\n",
        "for words in wordlist:\n",
        "  if 'w' in words and 'l' in words:\n",
        "    total_count2 += 1\n",
        "\n",
        "print(total_count2)"
      ],
      "metadata": {
        "colab": {
          "base_uri": "https://localhost:8080/"
        },
        "id": "ya2PJJRcrwXP",
        "outputId": "977df5dd-5f22-4ea4-e98e-843c8a3dad0b"
      },
      "execution_count": 22,
      "outputs": [
        {
          "output_type": "stream",
          "name": "stdout",
          "text": [
            "4822\n"
          ]
        }
      ]
    },
    {
      "cell_type": "markdown",
      "source": [
        "This code loops through the list once. It takes 0 seconds to run."
      ],
      "metadata": {
        "id": "yUdno-cRrTyw"
      }
    }
  ]
}