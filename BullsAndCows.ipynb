{
  "cells": [
    {
      "cell_type": "markdown",
      "metadata": {
        "id": "view-in-github",
        "colab_type": "text"
      },
      "source": [
        "<a href=\"https://colab.research.google.com/github/jordannemirovsky/DS1002/blob/main/BullsAndCows.ipynb\" target=\"_parent\"><img src=\"https://colab.research.google.com/assets/colab-badge.svg\" alt=\"Open In Colab\"/></a>"
      ]
    },
    {
      "cell_type": "markdown",
      "source": [
        "### Steps\n",
        "We will build this game using several functions.  \n",
        "\n",
        "1. **Count the Bulls:**  \n",
        "Write a function that takes two lists of the same length, and returns the number of Bulls.  That is, it should return the number of indices where the lists contain the same element.  *(Note:  you don't have to check that the entries are between 1 and 6, or that there are no repeats, etc.  A different function will do that.)*\n",
        "\n",
        "> A sample run might look like\n",
        "```\n",
        "first = [11, 3, 17, 5, 1]\n",
        "second = [20, 2, 17, 3, 1]\n",
        "count_bulls(first,second)\n",
        "```\n",
        "```\n",
        " 2\n",
        "```\n"
      ],
      "metadata": {
        "id": "XSH1JULaurD1"
      }
    },
    {
      "cell_type": "markdown",
      "source": [
        "Define your function in the code chunk below.  The function definition command and the return command are pre-populated for you.  You just have to fill in the part which does the actual counting.  I recommend using a list comprehension to do this.\n"
      ],
      "metadata": {
        "id": "pXoOyBk7xmPa"
      }
    },
    {
      "cell_type": "code",
      "source": [
        "#the Bull-counting function\n",
        "def count_bulls(first, second):\n",
        "  '''\n",
        "  Takes two lists of the same length and computes the number of positions where the list entries agree.\n",
        "\n",
        "  Args:\n",
        "    first (list): The first list.\n",
        "    second (list): The second list.\n",
        "\n",
        "  Returns:\n",
        "    int: The number of positions where the list entries agree.\n",
        "  '''\n",
        "  num_bulls = 0\n",
        "  for i in range(len(first)):\n",
        "      if first[i] == second[i]:\n",
        "        num_bulls += 1\n",
        "  return num_bulls"
      ],
      "metadata": {
        "id": "vEsRSe8KxlcF"
      },
      "execution_count": 223,
      "outputs": []
    },
    {
      "cell_type": "markdown",
      "source": [
        "Add code and/or text chunks below to demonstrate that you have tested your code and that it works correctly."
      ],
      "metadata": {
        "id": "yACJyJtOzE2U"
      }
    },
    {
      "cell_type": "code",
      "source": [
        "#demonstrate code was tested and works correctly using the sample run above\n",
        "first = [11, 3, 17, 5, 1]\n",
        "second = [20, 2, 17, 3, 1]\n",
        "count_bulls(first, second)"
      ],
      "metadata": {
        "colab": {
          "base_uri": "https://localhost:8080/"
        },
        "id": "SElGtvw4rtTX",
        "outputId": "91d55c7e-cd24-41b0-83ee-5d80f93989ee"
      },
      "execution_count": 224,
      "outputs": [
        {
          "output_type": "execute_result",
          "data": {
            "text/plain": [
              "2"
            ]
          },
          "metadata": {},
          "execution_count": 224
        }
      ]
    },
    {
      "cell_type": "markdown",
      "source": [
        "2. **Count something else:**  \n",
        "To count the cows it will be helpful first to count how many of the elements occur in both strings, without paying attention their positions.\n",
        "Write a function called `count_animals` that takes two lists of the same length, and returns the number of elements of the second list that are also in the first list.  (In the game setting, each such element is either a Bull or a Cow, but don't worry about which is which for this problem.)\n",
        "You may assume the lists do not contain repeated elements, since this will be the case when the function is called in the game.\n",
        "\n",
        "> This time a sample run might look like\n",
        "```\n",
        "first = [11, 3, 17, 5, 1]\n",
        "second = [20, 2, 17, 3, 1]\n",
        "count_animals(first,second)\n",
        "```\n",
        "```\n",
        " 3\n",
        "```\n",
        "\n",
        "This one isn't started for you.  Remember to include a docstring.  This can also be done using a list comprehension, similar to the previous function.\n",
        "\n"
      ],
      "metadata": {
        "id": "aMsOmejkzNVN"
      }
    },
    {
      "cell_type": "code",
      "source": [
        "#define your function here\n",
        "def count_animals(list1, list2):\n",
        "    '''\n",
        "    Count the number of elements in the second list that are also in the first list.\n",
        "\n",
        "    Args:\n",
        "    list1 (list): The first list.\n",
        "    list2 (list): The second list.\n",
        "\n",
        "    Returns:\n",
        "    int: The number of elements in list2 that are also in list1.\n",
        "    '''\n",
        "    return len([elem for elem in list2 if elem in list1])"
      ],
      "metadata": {
        "id": "yRX219q02e6i"
      },
      "execution_count": 225,
      "outputs": []
    },
    {
      "cell_type": "markdown",
      "source": [
        "Again, demonstrate below that you have tested your code and that it works."
      ],
      "metadata": {
        "id": "HXRNwANS2f-4"
      }
    },
    {
      "cell_type": "code",
      "source": [
        "#demonstrate code was tested and works correctly using the sample run above\n",
        "first = [11, 3, 17, 5, 1]\n",
        "second = [20, 2, 17, 3, 1]\n",
        "count_animals(first, second)"
      ],
      "metadata": {
        "colab": {
          "base_uri": "https://localhost:8080/"
        },
        "id": "YTuj1LCYsyk1",
        "outputId": "580b3a0b-4c35-416a-e245-7ae0e4de18dc"
      },
      "execution_count": 226,
      "outputs": [
        {
          "output_type": "execute_result",
          "data": {
            "text/plain": [
              "3"
            ]
          },
          "metadata": {},
          "execution_count": 226
        }
      ]
    },
    {
      "cell_type": "markdown",
      "source": [
        "3. **Count the cows:**  \n",
        "Write a function called `count_cows` that counts the cows.  \n",
        "> This time a sample run might look like\n",
        "```\n",
        "first = [11, 3, 17, 5, 1]\n",
        "second = [20, 2, 17, 3, 1]\n",
        "count_cows(first,second)\n",
        "```\n",
        "```\n",
        " 1\n",
        "```\n",
        "*Use the two previously defined functions to help you!  \n",
        "In fact, remember that the only reason we wrote the `count_animals` function was to help count the cows.*\n",
        "\n",
        "You can do this with only two lines of code, not counting documentation!"
      ],
      "metadata": {
        "id": "x2DAPkxj2GMo"
      }
    },
    {
      "cell_type": "code",
      "source": [
        "#put the Cow counting function here\n",
        "def count_cows(list1, list2):\n",
        "    '''\n",
        "    Count the number of cows (elements in list2 that are in list1 but not at the same position).\n",
        "\n",
        "    Args:\n",
        "    list1 (list): The first list.\n",
        "    list2 (list): The second list.\n",
        "\n",
        "    Returns:\n",
        "    int: The number of cows.\n",
        "    '''\n",
        "    return count_animals(list1, list2) - count_bulls(list1, list2)"
      ],
      "metadata": {
        "id": "QnxnaOPI3YZO"
      },
      "execution_count": 227,
      "outputs": []
    },
    {
      "cell_type": "code",
      "source": [
        "#demonstrate code was tested and works correctly using the sample run above\n",
        "first = [11, 3, 17, 5, 1]\n",
        "second = [20, 2, 17, 3, 1]\n",
        "count_cows(first, second)"
      ],
      "metadata": {
        "colab": {
          "base_uri": "https://localhost:8080/"
        },
        "id": "p_-X-5GwtEVh",
        "outputId": "598517de-3ab6-487d-88fb-5b26229db870"
      },
      "execution_count": 228,
      "outputs": [
        {
          "output_type": "execute_result",
          "data": {
            "text/plain": [
              "1"
            ]
          },
          "metadata": {},
          "execution_count": 228
        }
      ]
    },
    {
      "cell_type": "markdown",
      "metadata": {
        "id": "hWQhYDIVYjXr"
      },
      "source": [
        "4. **Create feedback string**  \n",
        "Write a `build_response_str` function that takes three numbers, say `b,c,l`, and outputs a string of total length `l` that consists of `b` B's, followed by `c` C's, and the rest X's (until the total length is `l`).\n",
        "\n",
        "> Sample run:\n",
        "```\n",
        "build_response_str(4,3,9)\n",
        "```\n",
        "```\n",
        "BBBBCCCXX\n",
        "```"
      ]
    },
    {
      "cell_type": "code",
      "source": [
        "#define your function here\n",
        "def build_response_str(b, c, l):\n",
        "    '''\n",
        "    Build a string consisting of b B's, followed by c C's, and the rest X's until the total length is l.\n",
        "\n",
        "    Args:\n",
        "    b (int): The number of B's.\n",
        "    c (int): The number of C's.\n",
        "    l (int): The total length of the output string.\n",
        "\n",
        "    Returns:\n",
        "    str: The built string.\n",
        "    '''\n",
        "    x_count = l - b - c\n",
        "    return 'B' * b + 'C' * c + 'X' * x_count"
      ],
      "metadata": {
        "id": "GSimWqUsMaPE"
      },
      "execution_count": 229,
      "outputs": []
    },
    {
      "cell_type": "markdown",
      "source": [
        "Test your code here."
      ],
      "metadata": {
        "id": "2D14kxTU7ApH"
      }
    },
    {
      "cell_type": "code",
      "source": [
        "#demonstrate code was tested and works correctly using the sample run above\n",
        "build_response_str(4, 3, 9)"
      ],
      "metadata": {
        "colab": {
          "base_uri": "https://localhost:8080/",
          "height": 35
        },
        "id": "rIojlM7btL0r",
        "outputId": "5d016b29-7b15-41f1-e3d8-afa77f0b2ec1"
      },
      "execution_count": 230,
      "outputs": [
        {
          "output_type": "execute_result",
          "data": {
            "text/plain": [
              "'BBBBCCCXX'"
            ],
            "application/vnd.google.colaboratory.intrinsic+json": {
              "type": "string"
            }
          },
          "metadata": {},
          "execution_count": 230
        }
      ]
    },
    {
      "cell_type": "markdown",
      "metadata": {
        "id": "omzE6sLKwsMC"
      },
      "source": [
        "5.  **Generate feedback for guesses**  \n",
        "Write a function `response(first,second)` that takes two lists of the same length, and outputs a string consisting of some number of B's followed by some number of C's followed by some number of X's, where the numbers correspond to the things we counted above.  That is, if `first` were the secret code in the game and `second` were the user's guess, then we would print one B for each Bull, one C for each Cow, and one X for each Miss. The total output string should have the same length as the input strings.\n",
        "\n",
        "> Sample run:\n",
        "```\n",
        "first = [11, 3, 17, 5, 1]\n",
        "second = [20, 2, 17, 3, 1]\n",
        "response(first,second)\n",
        "```\n",
        "```\n",
        " BBCXX\n",
        "```\n",
        "\n",
        "With all the functions you've already put in place, this should be simple.  Test your code once it's written.\n"
      ]
    },
    {
      "cell_type": "code",
      "source": [
        "#function\n",
        "def response(first, second):\n",
        "    '''\n",
        "    Build a response string based on the Bull, Cow, and Miss counts between two lists.\n",
        "\n",
        "    Args:\n",
        "    first (list): The first list (secret code).\n",
        "    second (list): The second list (user's guess).\n",
        "\n",
        "    Returns:\n",
        "    str: The response string consisting of B's for Bulls, C's for Cows, and X's for Misses.\n",
        "    '''\n",
        "    b_count = count_bulls(first, second)\n",
        "    c_count = count_cows(first, second)\n",
        "    x_count = len(first) - b_count - c_count\n",
        "    return 'B' * b_count + 'C' * c_count + 'X' * x_count"
      ],
      "metadata": {
        "id": "RD1qq7l783y5"
      },
      "execution_count": 231,
      "outputs": []
    },
    {
      "cell_type": "code",
      "source": [
        "#demonstrate code was tested and works correctly using the sample run above\n",
        "first = [11, 3, 17, 5, 1]\n",
        "second = [20, 2, 17, 3, 1]\n",
        "response(first, second)"
      ],
      "metadata": {
        "colab": {
          "base_uri": "https://localhost:8080/",
          "height": 35
        },
        "id": "Fg0S5JOZtqYj",
        "outputId": "f59ff44b-2f48-4742-9131-7b057c6b154b"
      },
      "execution_count": 232,
      "outputs": [
        {
          "output_type": "execute_result",
          "data": {
            "text/plain": [
              "'BBCXX'"
            ],
            "application/vnd.google.colaboratory.intrinsic+json": {
              "type": "string"
            }
          },
          "metadata": {},
          "execution_count": 232
        }
      ]
    },
    {
      "cell_type": "markdown",
      "metadata": {
        "id": "LWshNPjPZJdQ"
      },
      "source": [
        "6.  **Choose the secret code**  \n",
        "The `random` package, and specifically the `sample` sub-package, is useful for generating random samples.  Try running the following lines of code several times.\n",
        "\n"
      ]
    },
    {
      "cell_type": "code",
      "source": [
        "from random import sample\n",
        "\n",
        "sample(range(1,7),4)  #the first argument is the population to be sampled, and the second is the number of samples\n",
        "                      #recall that `range(a,b)` includes `a` but stops at `b-1`"
      ],
      "metadata": {
        "id": "OzEZ5BQZ85jV",
        "colab": {
          "base_uri": "https://localhost:8080/"
        },
        "outputId": "572ce7f3-ade9-4ccb-fc35-ba5f36fa44ef"
      },
      "execution_count": 233,
      "outputs": [
        {
          "output_type": "execute_result",
          "data": {
            "text/plain": [
              "[3, 2, 1, 5]"
            ]
          },
          "metadata": {},
          "execution_count": 233
        }
      ]
    },
    {
      "cell_type": "markdown",
      "source": [
        "What type of object is returned by the `sample` function?\n"
      ],
      "metadata": {
        "id": "N1BOe2Xd-kr4"
      }
    },
    {
      "cell_type": "code",
      "source": [
        "print(type(sample(range(1, 7), 4)))"
      ],
      "metadata": {
        "id": "U5AAu9sG-slX",
        "colab": {
          "base_uri": "https://localhost:8080/"
        },
        "outputId": "c1e9a3e6-5dd9-4fcd-d156-1f1a2590dc03"
      },
      "execution_count": 234,
      "outputs": [
        {
          "output_type": "stream",
          "name": "stdout",
          "text": [
            "<class 'list'>\n"
          ]
        }
      ]
    },
    {
      "cell_type": "markdown",
      "source": [
        "The sample function returns a list object."
      ],
      "metadata": {
        "id": "AaCgczUbu_fN"
      }
    },
    {
      "cell_type": "markdown",
      "source": [
        "7. **Verify the guess**  \n",
        "Finish writing a function called `get_guess` (started below) to prompt the user for a guess and then make sure the input is valid according to the rules of the game.\n",
        "The prompt is already given.  Note that the `list` command converts the input into a list of characters so that it can be passed to the other functions (which are expecting lists).   \n",
        ">**Alert:  you will likely have to think more about data types before this is all over.**"
      ],
      "metadata": {
        "id": "mbK84TdIAVsO"
      }
    },
    {
      "cell_type": "code",
      "source": [
        "#Add code as needed to verify that the guess is legitimate.\n",
        "#Respond to an illegitimate guess with a message telling the user what the rules are and asking to try again.\n",
        "def get_guess():\n",
        "    '''\n",
        "    Prompt the user for a 4-digit guess meeting the game's requirements and verify its legitimacy.\n",
        "\n",
        "    Returns:\n",
        "    list: The user's guess as a list of digits.\n",
        "    '''\n",
        "    while True:\n",
        "        guess = list(input(\"Enter your 4-digit guess (digits 1-6, no repeats):\"))\n",
        "        if len(guess) != 4:\n",
        "            print(\"Invalid guess length. Please enter a 4-digit guess.\")\n",
        "        elif not all(digit.isdigit() for digit in guess):\n",
        "            print(\"Invalid guess. Please enter only digits.\")\n",
        "        elif any(int(digit) not in range(1, 7) for digit in guess):\n",
        "            print(\"Invalid guess. Please enter only digits from 1 to 6.\")\n",
        "        elif len(set(guess)) != len(guess):\n",
        "            print(\"Invalid guess. Please enter digits without repeats.\")\n",
        "        else:\n",
        "            return [int(digit) for digit in guess]"
      ],
      "metadata": {
        "id": "13HGg6VvBXSH"
      },
      "execution_count": 253,
      "outputs": []
    },
    {
      "cell_type": "markdown",
      "source": [
        "As usual, test your code.  What type of objects are we dealing with here?"
      ],
      "metadata": {
        "id": "PSPYpeZYONf0"
      }
    },
    {
      "cell_type": "code",
      "source": [
        "#testing code with a number within the parameters\n",
        "get_guess()"
      ],
      "metadata": {
        "id": "ytgf6BfiOPNh",
        "colab": {
          "base_uri": "https://localhost:8080/"
        },
        "outputId": "02508945-e5b4-4973-8269-64a71e116253"
      },
      "execution_count": 254,
      "outputs": [
        {
          "name": "stdout",
          "output_type": "stream",
          "text": [
            "Enter your 4-digit guess (digits 1-6, no repeats):1234\n"
          ]
        },
        {
          "output_type": "execute_result",
          "data": {
            "text/plain": [
              "[1, 2, 3, 4]"
            ]
          },
          "metadata": {},
          "execution_count": 254
        }
      ]
    },
    {
      "cell_type": "code",
      "source": [
        "#testing code with a number longer than 4 digits\n",
        "guess = get_guess()\n",
        "print(guess)"
      ],
      "metadata": {
        "colab": {
          "base_uri": "https://localhost:8080/"
        },
        "id": "pVTW2guzw3iy",
        "outputId": "12e99dab-3a59-4833-dce3-d57f8e2db67b"
      },
      "execution_count": 255,
      "outputs": [
        {
          "output_type": "stream",
          "name": "stdout",
          "text": [
            "Enter your 4-digit guess (digits 1-6, no repeats):12345\n",
            "Invalid guess length. Please enter a 4-digit guess.\n",
            "Enter your 4-digit guess (digits 1-6, no repeats):1234\n",
            "[1, 2, 3, 4]\n"
          ]
        }
      ]
    },
    {
      "cell_type": "code",
      "source": [
        "#testing code with a number that has digits that are not 1-6\n",
        "guess = get_guess()\n",
        "print(guess)"
      ],
      "metadata": {
        "colab": {
          "base_uri": "https://localhost:8080/"
        },
        "id": "yHhOYThqxkyO",
        "outputId": "9a1425dd-12e6-483e-8ddb-80e873a39507"
      },
      "execution_count": 256,
      "outputs": [
        {
          "output_type": "stream",
          "name": "stdout",
          "text": [
            "Enter your 4-digit guess (digits 1-6, no repeats):1237\n",
            "Invalid guess. Please enter only digits from 1 to 6.\n",
            "Enter your 4-digit guess (digits 1-6, no repeats):1234\n",
            "[1, 2, 3, 4]\n"
          ]
        }
      ]
    },
    {
      "cell_type": "code",
      "source": [
        "#testing code with a number that has repeated digits\n",
        "guess = get_guess()\n",
        "print(guess)"
      ],
      "metadata": {
        "colab": {
          "base_uri": "https://localhost:8080/"
        },
        "id": "tlcdVGQ4xr3F",
        "outputId": "9e64967a-daf3-48c0-c8ae-7aaf58a89149"
      },
      "execution_count": 257,
      "outputs": [
        {
          "output_type": "stream",
          "name": "stdout",
          "text": [
            "Enter your 4-digit guess (digits 1-6, no repeats):1123\n",
            "Invalid guess. Please enter digits without repeats.\n",
            "Enter your 4-digit guess (digits 1-6, no repeats):1234\n",
            "[1, 2, 3, 4]\n"
          ]
        }
      ]
    },
    {
      "cell_type": "code",
      "source": [
        "#testing code with a number that has non number inputs\n",
        "guess = get_guess()\n",
        "print(guess)"
      ],
      "metadata": {
        "colab": {
          "base_uri": "https://localhost:8080/"
        },
        "id": "YwOdXMb-xwRB",
        "outputId": "8d08abf0-d640-4637-84f6-53a8f14777b5"
      },
      "execution_count": 259,
      "outputs": [
        {
          "output_type": "stream",
          "name": "stdout",
          "text": [
            "Enter your 4-digit guess (digits 1-6, no repeats):123a\n",
            "Invalid guess. Please enter only digits.\n",
            "Enter your 4-digit guess (digits 1-6, no repeats):1234\n",
            "[1, 2, 3, 4]\n"
          ]
        }
      ]
    },
    {
      "cell_type": "code",
      "source": [
        "#figuring out the object type\n",
        "print(type(guess))"
      ],
      "metadata": {
        "colab": {
          "base_uri": "https://localhost:8080/"
        },
        "id": "R75LFB_lyFk0",
        "outputId": "149ff7b9-c878-4845-aa11-2b7fce1ff664"
      },
      "execution_count": 260,
      "outputs": [
        {
          "output_type": "stream",
          "name": "stdout",
          "text": [
            "<class 'list'>\n"
          ]
        }
      ]
    },
    {
      "cell_type": "markdown",
      "source": [
        "The get_guess function returns a list object."
      ],
      "metadata": {
        "id": "V-bZSPPVyI18"
      }
    },
    {
      "cell_type": "markdown",
      "source": [
        "8. **Put it all together**  \n",
        "Finally, fill in the details of the function `bulls_cows` below so that it will play the game of Bulls and Cows when called.  Note that the function takes no arguments and returns nothing.\n"
      ],
      "metadata": {
        "id": "WdtvUrA4-uzn"
      }
    },
    {
      "cell_type": "code",
      "execution_count": 261,
      "metadata": {
        "id": "_u48oidGzRKX"
      },
      "outputs": [],
      "source": [
        "from random import sample\n",
        "\n",
        "def bulls_cows():\n",
        "  '''\n",
        "  This function plays the game \"Bulls and Cows.\"\n",
        "  It takes no arguments and returns nothing.\n",
        "  '''\n",
        "  code = sample(range(1, 7), 4)       #(finish) computer selects the secret code\n",
        "\n",
        "  for i in range(6):                  #user gets a maximum of 6 guesses\n",
        "    guess = get_guess()               #(finish) run a function to get a guess\n",
        "\n",
        "    if code == guess:\n",
        "      print(\"You guessed it!\")\n",
        "      return\n",
        "\n",
        "    print(response(code, guess))\n",
        "\n",
        "  print(f\"You have run out of guesses. The secret code was {code}.\")"
      ]
    },
    {
      "cell_type": "markdown",
      "metadata": {
        "id": "NzjqX_9K3OuV"
      },
      "source": [
        "Play the game a few times below.  Make sure it behaves as you think it should!"
      ]
    },
    {
      "cell_type": "code",
      "execution_count": 267,
      "metadata": {
        "id": "b-HELV-z3OuW",
        "colab": {
          "base_uri": "https://localhost:8080/"
        },
        "outputId": "89043841-b4ce-4cef-dd28-543f17343399"
      },
      "outputs": [
        {
          "output_type": "stream",
          "name": "stdout",
          "text": [
            "Enter your 4-digit guess (digits 1-6, no repeats):2345\n",
            "CCCX\n",
            "Enter your 4-digit guess (digits 1-6, no repeats):2346\n",
            "CCXX\n",
            "Enter your 4-digit guess (digits 1-6, no repeats):2356\n",
            "BCCX\n",
            "Enter your 4-digit guess (digits 1-6, no repeats):3256\n",
            "BBCX\n",
            "Enter your 4-digit guess (digits 1-6, no repeats):1253\n",
            "BCCC\n",
            "Enter your 4-digit guess (digits 1-6, no repeats):3152\n",
            "You guessed it!\n"
          ]
        }
      ],
      "source": [
        "bulls_cows()"
      ]
    },
    {
      "cell_type": "code",
      "source": [
        "bulls_cows()"
      ],
      "metadata": {
        "id": "inzOdtimDfGU",
        "colab": {
          "base_uri": "https://localhost:8080/"
        },
        "outputId": "1bfcfb31-a2c6-42dd-f0c4-5fcf89960e5a"
      },
      "execution_count": 269,
      "outputs": [
        {
          "output_type": "stream",
          "name": "stdout",
          "text": [
            "Enter your 4-digit guess (digits 1-6, no repeats):5463\n",
            "BCCX\n",
            "Enter your 4-digit guess (digits 1-6, no repeats):5634\n",
            "CCCX\n",
            "Enter your 4-digit guess (digits 1-6, no repeats):5364\n",
            "BCCX\n",
            "Enter your 4-digit guess (digits 1-6, no repeats):4563\n",
            "BBBX\n",
            "Enter your 4-digit guess (digits 1-6, no repeats):4561\n",
            "BBBX\n",
            "Enter your 4-digit guess (digits 1-6, no repeats):4562\n",
            "You guessed it!\n"
          ]
        }
      ]
    },
    {
      "cell_type": "code",
      "source": [
        "bulls_cows()"
      ],
      "metadata": {
        "id": "Eqw-5laFDfkG",
        "colab": {
          "base_uri": "https://localhost:8080/"
        },
        "outputId": "8e21f2c9-62b0-4f8d-cca5-49811ae28b5d"
      },
      "execution_count": 272,
      "outputs": [
        {
          "output_type": "stream",
          "name": "stdout",
          "text": [
            "Enter your 4-digit guess (digits 1-6, no repeats):6234\n",
            "CCCX\n",
            "Enter your 4-digit guess (digits 1-6, no repeats):6231\n",
            "CCCX\n",
            "Enter your 4-digit guess (digits 1-6, no repeats):2361\n",
            "BCCX\n",
            "Enter your 4-digit guess (digits 1-6, no repeats):2641\n",
            "CCXX\n",
            "Enter your 4-digit guess (digits 1-6, no repeats):6325\n",
            "CCCC\n",
            "Enter your 4-digit guess (digits 1-6, no repeats):3562\n",
            "You guessed it!\n"
          ]
        }
      ]
    },
    {
      "cell_type": "code",
      "source": [
        "bulls_cows()"
      ],
      "metadata": {
        "colab": {
          "base_uri": "https://localhost:8080/"
        },
        "id": "ooYUtdq_eKnM",
        "outputId": "d709000e-6664-44f6-801b-f3197ecc7855"
      },
      "execution_count": 273,
      "outputs": [
        {
          "output_type": "stream",
          "name": "stdout",
          "text": [
            "Enter your 4-digit guess (digits 1-6, no repeats):1234\n",
            "BCCX\n",
            "Enter your 4-digit guess (digits 1-6, no repeats):4321\n",
            "BCCX\n",
            "Enter your 4-digit guess (digits 1-6, no repeats):4a31\n",
            "Invalid guess. Please enter only digits.\n",
            "Enter your 4-digit guess (digits 1-6, no repeats):1123\n",
            "Invalid guess. Please enter digits without repeats.\n",
            "Enter your 4-digit guess (digits 1-6, no repeats):4567\n",
            "Invalid guess. Please enter only digits from 1 to 6.\n",
            "Enter your 4-digit guess (digits 1-6, no repeats):34561\n",
            "Invalid guess length. Please enter a 4-digit guess.\n",
            "Enter your 4-digit guess (digits 1-6, no repeats):1234\n",
            "BCCX\n",
            "Enter your 4-digit guess (digits 1-6, no repeats):1234\n",
            "BCCX\n",
            "Enter your 4-digit guess (digits 1-6, no repeats):1234\n",
            "BCCX\n",
            "Enter your 4-digit guess (digits 1-6, no repeats):1234\n",
            "BCCX\n",
            "You have run out of guesses. The secret code was [3, 2, 6, 1].\n"
          ]
        }
      ]
    },
    {
      "cell_type": "markdown",
      "source": [
        "This last bulls_cows() run was to make sure it gave the correct feedback and invalidated certain guesses."
      ],
      "metadata": {
        "id": "Q-W0_JiHebhr"
      }
    },
    {
      "cell_type": "markdown",
      "source": [
        "9. **Reflect**  \n",
        "Think of at least three ways you could change the rules or setup of the game, and in each case describe (in one sentence, you don't need to write code) what you would have to do to modify your code to play the new version of the game.  Use a text box below for each of your ideas."
      ],
      "metadata": {
        "id": "a58-KCX4ELRO"
      }
    },
    {
      "cell_type": "markdown",
      "source": [
        "(1) Increase the number of digits of the secret number. In the code you need to change the length of the secret number and allow users to input longer guesses which is all in the get_guess() function."
      ],
      "metadata": {
        "id": "Jof2vIZSEfwo"
      }
    },
    {
      "cell_type": "markdown",
      "source": [
        "(2) Allow the user to have unlimited guesses. In the code you need to change the restrictions on guesses which is in the bulls_cows() function."
      ],
      "metadata": {
        "id": "f2_QlBavEiqW"
      }
    },
    {
      "cell_type": "markdown",
      "source": [
        "(3) Let the user decide the range of digits the secret number can take. In the code you need to create a prompt that asks the user for the min and max of their range and then update all the functions accordingly to take more than just the values 1-6."
      ],
      "metadata": {
        "id": "sqfq2EFpEjZt"
      }
    }
  ],
  "metadata": {
    "colab": {
      "provenance": [],
      "include_colab_link": true
    },
    "kernelspec": {
      "display_name": "Python 3",
      "name": "python3"
    },
    "language_info": {
      "name": "python"
    }
  },
  "nbformat": 4,
  "nbformat_minor": 0
}