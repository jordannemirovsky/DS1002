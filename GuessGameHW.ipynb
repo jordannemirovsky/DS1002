{
  "nbformat": 4,
  "nbformat_minor": 0,
  "metadata": {
    "colab": {
      "provenance": [],
      "authorship_tag": "ABX9TyOcPR5QIHsCuhSPvpjE60m3",
      "include_colab_link": true
    },
    "kernelspec": {
      "name": "python3",
      "display_name": "Python 3"
    },
    "language_info": {
      "name": "python"
    }
  },
  "cells": [
    {
      "cell_type": "markdown",
      "metadata": {
        "id": "view-in-github",
        "colab_type": "text"
      },
      "source": [
        "<a href=\"https://colab.research.google.com/github/jordannemirovsky/DS1002/blob/main/GuessGameHW.ipynb\" target=\"_parent\"><img src=\"https://colab.research.google.com/assets/colab-badge.svg\" alt=\"Open In Colab\"/></a>"
      ]
    },
    {
      "cell_type": "markdown",
      "source": [
        "Jordan Nemirovsky"
      ],
      "metadata": {
        "id": "vKDQWr-AFbWD"
      }
    },
    {
      "cell_type": "code",
      "source": [
        "import numpy as np\n",
        "\n",
        "def guess_game():\n",
        "    random_integer = np.random.randint(0, 100)\n",
        "    print(\"I am selecting a number between 0 and 100.\")\n",
        "    print(\"Guess the number!\")\n",
        "    attempts = 0\n",
        "    while True:\n",
        "      user_guess = int(input())\n",
        "      attempts += 1\n",
        "      if user_guess < 0:\n",
        "        print(\"Invalid value. Chose a number between 0 and 100.\")\n",
        "      if user_guess > 100:\n",
        "        print(\"Invalid value. Chose a number between 0 and 100.\")\n",
        "      if user_guess < random_integer and user_guess >= 0:\n",
        "        print(\"Too low!\")\n",
        "      if user_guess > random_integer and user_guess <= 100:\n",
        "        print(\"Too high!\")\n",
        "      if user_guess == random_integer:\n",
        "        print(\"You got it! It took you\", attempts, \"attempts!\")\n",
        "        break\n",
        "\n",
        "guess_game()"
      ],
      "metadata": {
        "id": "tHZnThi2VWzj"
      },
      "execution_count": null,
      "outputs": []
    },
    {
      "cell_type": "markdown",
      "source": [
        "This assignment took us 2 hours."
      ],
      "metadata": {
        "id": "HdnPlxqm8AIT"
      }
    }
  ]
}