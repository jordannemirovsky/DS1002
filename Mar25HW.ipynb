{
  "nbformat": 4,
  "nbformat_minor": 0,
  "metadata": {
    "colab": {
      "provenance": [],
      "authorship_tag": "ABX9TyNQG4VwKvSnXByXQwsXDCxu",
      "include_colab_link": true
    },
    "kernelspec": {
      "name": "python3",
      "display_name": "Python 3"
    },
    "language_info": {
      "name": "python"
    }
  },
  "cells": [
    {
      "cell_type": "markdown",
      "metadata": {
        "id": "view-in-github",
        "colab_type": "text"
      },
      "source": [
        "<a href=\"https://colab.research.google.com/github/jordannemirovsky/DS1002/blob/main/Mar25HW.ipynb\" target=\"_parent\"><img src=\"https://colab.research.google.com/assets/colab-badge.svg\" alt=\"Open In Colab\"/></a>"
      ]
    },
    {
      "cell_type": "code",
      "execution_count": 46,
      "metadata": {
        "id": "eUpYQYSepZUC"
      },
      "outputs": [],
      "source": [
        "import pandas as pd"
      ]
    },
    {
      "cell_type": "code",
      "source": [
        "ride_sharing = pd.read_csv('./ride_sharing.csv')"
      ],
      "metadata": {
        "id": "eKGw9EuCp7lT"
      },
      "execution_count": 47,
      "outputs": []
    },
    {
      "cell_type": "code",
      "source": [
        "ride_sharing.shape"
      ],
      "metadata": {
        "colab": {
          "base_uri": "https://localhost:8080/"
        },
        "id": "f2JStvErqRvi",
        "outputId": "507a702a-e059-4ee3-9160-6dae1405f162"
      },
      "execution_count": 48,
      "outputs": [
        {
          "output_type": "execute_result",
          "data": {
            "text/plain": [
              "(25760, 10)"
            ]
          },
          "metadata": {},
          "execution_count": 48
        }
      ]
    },
    {
      "cell_type": "markdown",
      "source": [
        "There are 25760 rows and 10 columns."
      ],
      "metadata": {
        "id": "m7uvxGXLqmQD"
      }
    },
    {
      "cell_type": "code",
      "source": [
        "ride_sharing['duration'] = ride_sharing['duration'].str.extract('(\\d+)').astype(int)"
      ],
      "metadata": {
        "id": "pkGSZ45XtLBq"
      },
      "execution_count": 49,
      "outputs": []
    },
    {
      "cell_type": "code",
      "source": [
        "print(ride_sharing.dtypes)"
      ],
      "metadata": {
        "colab": {
          "base_uri": "https://localhost:8080/"
        },
        "id": "vDX5T2o6tOMa",
        "outputId": "9e459aee-8003-488b-efb4-dc1a29ba5010"
      },
      "execution_count": 50,
      "outputs": [
        {
          "output_type": "stream",
          "name": "stdout",
          "text": [
            "duration            int64\n",
            "station_A_id        int64\n",
            "station_A_name     object\n",
            "station_B_id        int64\n",
            "station_B_name     object\n",
            "bike_id             int64\n",
            "user_type           int64\n",
            "user_birth_year     int64\n",
            "user_gender        object\n",
            "tire_size           int64\n",
            "dtype: object\n"
          ]
        }
      ]
    },
    {
      "cell_type": "code",
      "source": [
        "ride_sharing['duration'].min()"
      ],
      "metadata": {
        "colab": {
          "base_uri": "https://localhost:8080/"
        },
        "id": "wMgRjiqMtYfm",
        "outputId": "29d43fc6-ec59-4526-9283-dc07997c897c"
      },
      "execution_count": 51,
      "outputs": [
        {
          "output_type": "execute_result",
          "data": {
            "text/plain": [
              "1"
            ]
          },
          "metadata": {},
          "execution_count": 51
        }
      ]
    },
    {
      "cell_type": "markdown",
      "source": [
        "The min ride duration is 1 minute."
      ],
      "metadata": {
        "id": "9eXttqz8t-HD"
      }
    },
    {
      "cell_type": "code",
      "source": [
        "ride_sharing['duration'].max()"
      ],
      "metadata": {
        "colab": {
          "base_uri": "https://localhost:8080/"
        },
        "id": "9tUvkr3_t6nJ",
        "outputId": "f0929f28-4141-499a-c10c-a8c2d2ed5acd"
      },
      "execution_count": 52,
      "outputs": [
        {
          "output_type": "execute_result",
          "data": {
            "text/plain": [
              "1372"
            ]
          },
          "metadata": {},
          "execution_count": 52
        }
      ]
    },
    {
      "cell_type": "markdown",
      "source": [
        "The max ride duration is 1372 minutes."
      ],
      "metadata": {
        "id": "g_q3MgMEuAZE"
      }
    },
    {
      "cell_type": "code",
      "source": [
        "ride_sharing_new = ride_sharing.query('duration <= 60')"
      ],
      "metadata": {
        "id": "sBuJ03hAuAB2"
      },
      "execution_count": 53,
      "outputs": []
    },
    {
      "cell_type": "code",
      "source": [
        "ride_sharing_new['duration'].min()"
      ],
      "metadata": {
        "colab": {
          "base_uri": "https://localhost:8080/"
        },
        "id": "hwZt8bomudQ5",
        "outputId": "7f54c99e-506f-4b2b-87a9-24a151a39c75"
      },
      "execution_count": 54,
      "outputs": [
        {
          "output_type": "execute_result",
          "data": {
            "text/plain": [
              "1"
            ]
          },
          "metadata": {},
          "execution_count": 54
        }
      ]
    },
    {
      "cell_type": "markdown",
      "source": [
        "The min ride duration is 1 minute."
      ],
      "metadata": {
        "id": "_6JSOvddugpz"
      }
    },
    {
      "cell_type": "code",
      "source": [
        "ride_sharing_new['duration'].max()"
      ],
      "metadata": {
        "colab": {
          "base_uri": "https://localhost:8080/"
        },
        "id": "sc_JpUBtuiCa",
        "outputId": "28b0365d-56eb-488d-cd9e-6371b96020eb"
      },
      "execution_count": 55,
      "outputs": [
        {
          "output_type": "execute_result",
          "data": {
            "text/plain": [
              "60"
            ]
          },
          "metadata": {},
          "execution_count": 55
        }
      ]
    },
    {
      "cell_type": "markdown",
      "source": [
        "The max ride duration is 60 minutes."
      ],
      "metadata": {
        "id": "RCYnyd75uks0"
      }
    },
    {
      "cell_type": "code",
      "source": [
        "ride_sharing_new = ride_sharing_new.query('tire_size == 26')"
      ],
      "metadata": {
        "id": "34h1TIEoum1z"
      },
      "execution_count": 56,
      "outputs": []
    },
    {
      "cell_type": "code",
      "source": [
        "count = len(ride_sharing_new.query('user_gender == \"Female\" and duration <= 60'))\n",
        "count"
      ],
      "metadata": {
        "colab": {
          "base_uri": "https://localhost:8080/"
        },
        "id": "al6Fo8A2u5jD",
        "outputId": "bb5fdef2-18fe-46e9-8b5a-f0958ae0b312"
      },
      "execution_count": 57,
      "outputs": [
        {
          "output_type": "execute_result",
          "data": {
            "text/plain": [
              "2962"
            ]
          },
          "metadata": {},
          "execution_count": 57
        }
      ]
    },
    {
      "cell_type": "markdown",
      "source": [
        "2962 records are female riders with 26-inch wheeled bikes who rent for one hour or less."
      ],
      "metadata": {
        "id": "Tp5eWE8vvn7e"
      }
    },
    {
      "cell_type": "code",
      "source": [
        "more_messy_data = pd.read_csv('./more-messy-data.csv')"
      ],
      "metadata": {
        "id": "MyPkXD6JIrTM"
      },
      "execution_count": 79,
      "outputs": []
    },
    {
      "cell_type": "code",
      "source": [
        "print(more_messy_data.duplicated().sum())"
      ],
      "metadata": {
        "colab": {
          "base_uri": "https://localhost:8080/"
        },
        "id": "28Dw0EzPIydd",
        "outputId": "128071bd-3327-4f27-a4ec-ff8e00743826"
      },
      "execution_count": 80,
      "outputs": [
        {
          "output_type": "stream",
          "name": "stdout",
          "text": [
            "287\n"
          ]
        }
      ]
    },
    {
      "cell_type": "markdown",
      "source": [
        "There are 287 duplicate rows."
      ],
      "metadata": {
        "id": "QF2ktpIfI3fV"
      }
    },
    {
      "cell_type": "code",
      "source": [
        "more_messy_data = more_messy_data.drop_duplicates()"
      ],
      "metadata": {
        "id": "pWXSTU1HI40N"
      },
      "execution_count": 81,
      "outputs": []
    },
    {
      "cell_type": "code",
      "source": [
        "columns = ['sepal_length', 'sepal_width', 'petal_length', 'petal_width']\n",
        "more_messy_data[columns] = more_messy_data[columns].fillna(more_messy_data[columns].mean())"
      ],
      "metadata": {
        "id": "_TCB1eXaKWRK",
        "colab": {
          "base_uri": "https://localhost:8080/"
        },
        "outputId": "34a95a1b-8ed5-47a5-8a13-62428e8d9649"
      },
      "execution_count": 82,
      "outputs": [
        {
          "output_type": "stream",
          "name": "stderr",
          "text": [
            "<ipython-input-82-c9339e9f5a73>:2: FutureWarning: The default value of numeric_only in DataFrame.mean is deprecated. In a future version, it will default to False. In addition, specifying 'numeric_only=None' is deprecated. Select only valid columns or specify the value of numeric_only to silence this warning.\n",
            "  more_messy_data[columns] = more_messy_data[columns].fillna(more_messy_data[columns].mean())\n"
          ]
        }
      ]
    },
    {
      "cell_type": "code",
      "source": [
        "more_messy_data = more_messy_data.dropna()"
      ],
      "metadata": {
        "id": "BrPuP52CK6Zr"
      },
      "execution_count": 83,
      "outputs": []
    },
    {
      "cell_type": "code",
      "source": [
        "species = more_messy_data['species'].nunique()\n",
        "species"
      ],
      "metadata": {
        "colab": {
          "base_uri": "https://localhost:8080/"
        },
        "id": "KnbFCaV-LDhu",
        "outputId": "f48bfcd7-aeed-4393-b9bd-8039df82a270"
      },
      "execution_count": 84,
      "outputs": [
        {
          "output_type": "execute_result",
          "data": {
            "text/plain": [
              "9"
            ]
          },
          "metadata": {},
          "execution_count": 84
        }
      ]
    },
    {
      "cell_type": "markdown",
      "source": [
        "There are 9 species."
      ],
      "metadata": {
        "id": "4sgmTx8CLGGT"
      }
    },
    {
      "cell_type": "code",
      "source": [
        "#finding the names of the 9 species\n",
        "nine_species = more_messy_data['species'].unique()\n",
        "print(nine_species)"
      ],
      "metadata": {
        "id": "FXR0I__8LAJD",
        "colab": {
          "base_uri": "https://localhost:8080/"
        },
        "outputId": "1f76bd96-7cbe-458e-ee30-ab1f67b216b0"
      },
      "execution_count": 85,
      "outputs": [
        {
          "output_type": "stream",
          "name": "stdout",
          "text": [
            "['virginica' 'setosa' 'Versicolor' 'setoso' 'Viginica' 'Virginia' 'Setosa'\n",
            " 'Setosan' 'versicolor']\n"
          ]
        }
      ]
    },
    {
      "cell_type": "code",
      "source": [
        "#creating a dictionary\n",
        "mapping = {\n",
        "    'setosa': 'Setosa',\n",
        "    'setoso': 'Setosa',\n",
        "    'Setosa': 'Setosa',\n",
        "    'Setosan': 'Setosa',\n",
        "    'Versicolor': 'Versicolor',\n",
        "    'versicolor': 'Versicolor',\n",
        "    'virginica': 'Virginica',\n",
        "    'Viginica': 'Virginica',\n",
        "    'Virginia': 'Virginica'\n",
        "}\n",
        "\n",
        "#making three different values for the species variable\n",
        "more_messy_data['species'] = more_messy_data['species'].replace(mapping)"
      ],
      "metadata": {
        "id": "ESkwPDWVg-w7"
      },
      "execution_count": 86,
      "outputs": []
    },
    {
      "cell_type": "code",
      "source": [
        "#checking to see there are 3 species\n",
        "species_check = more_messy_data['species'].nunique()\n",
        "species_check"
      ],
      "metadata": {
        "colab": {
          "base_uri": "https://localhost:8080/"
        },
        "id": "-_qe8LjNh2QB",
        "outputId": "e66f408f-9538-492e-b738-4cdbe2a87343"
      },
      "execution_count": 87,
      "outputs": [
        {
          "output_type": "execute_result",
          "data": {
            "text/plain": [
              "3"
            ]
          },
          "metadata": {},
          "execution_count": 87
        }
      ]
    },
    {
      "cell_type": "code",
      "source": [
        "#checking to see what the 3 species are\n",
        "three_species = more_messy_data['species'].unique()\n",
        "print(three_species)"
      ],
      "metadata": {
        "colab": {
          "base_uri": "https://localhost:8080/"
        },
        "id": "UoGJn5L2jy7G",
        "outputId": "6778f622-9aa6-4521-a305-dadd9b23395f"
      },
      "execution_count": 88,
      "outputs": [
        {
          "output_type": "stream",
          "name": "stdout",
          "text": [
            "['Virginica' 'Setosa' 'Versicolor']\n"
          ]
        }
      ]
    }
  ]
}